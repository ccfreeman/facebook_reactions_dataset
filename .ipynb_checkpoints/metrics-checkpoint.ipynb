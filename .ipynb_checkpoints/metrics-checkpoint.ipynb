{
 "cells": [
  {
   "cell_type": "code",
   "execution_count": 8,
   "metadata": {},
   "outputs": [],
   "source": [
    "import pandas as pd\n",
    "from numpy import nan\n",
    "import numpy as np\n",
    "import re\n",
    "import copy\n",
    "\n",
    "import seaborn as sns\n",
    "import matplotlib.pyplot as plt"
   ]
  },
  {
   "cell_type": "code",
   "execution_count": 4,
   "metadata": {},
   "outputs": [],
   "source": [
    "def openData():\n",
    "    \"\"\"\n",
    "    Opens the csv with the data and cleans the dataset and returns a dataframe.\n",
    "    \"\"\"\n",
    "    # Sort data in descending order by page visibility. This ensures duplicates without page followers are dropped.\n",
    "#     data = pd.read_csv(\"../data/facebook_data_cleaned.csv\").sort_values('visibility', ascending=False)\n",
    "#     data = data.drop_duplicates(['altmetric_id'], keep='first')\n",
    "\n",
    "    data = pd.read_csv(\"../data/small_data.csv\")\n",
    "    \n",
    "    data['fb_wall_urls'] = data['fb_wall_urls'].apply(lambda x: eval(x))\n",
    "    \n",
    "    def func(inp):\n",
    "        if inp is nan:\n",
    "            return inp\n",
    "        try:\n",
    "            res = eval(inp)\n",
    "        except:\n",
    "            res = [inp]\n",
    "        return res\n",
    "    \n",
    "    data['subjects'] = data['subjects'].map(func)\n",
    "    data['scopus_subjects'] = data['scopus_subjects'].map(func)\n",
    "    data['publisher_subjects'] = data['publisher_subjects'].map(func)\n",
    "    \n",
    "    data['fb_wall_count'] = data['fb_wall_count'].astype(int)\n",
    "    \n",
    "    return data\n"
   ]
  },
  {
   "cell_type": "code",
   "execution_count": 199,
   "metadata": {},
   "outputs": [],
   "source": [
    "data = openData()"
   ]
  },
  {
   "cell_type": "code",
   "execution_count": 200,
   "metadata": {},
   "outputs": [
    {
     "name": "stdout",
     "output_type": "stream",
     "text": [
      "<class 'pandas.core.frame.DataFrame'>\n",
      "RangeIndex: 9334 entries, 0 to 9333\n",
      "Data columns (total 19 columns):\n",
      "altmetric_id          9334 non-null float64\n",
      "title                 9273 non-null object\n",
      "subjects              4995 non-null object\n",
      "abstract              6041 non-null object\n",
      "pubdate               9334 non-null object\n",
      "fb_wall_count         9334 non-null int32\n",
      "scopus_subjects       5824 non-null object\n",
      "publisher_subjects    5659 non-null object\n",
      "fb_wall_urls          9334 non-null object\n",
      "shares                9334 non-null int64\n",
      "visibility            9334 non-null int64\n",
      "total_like            9334 non-null int64\n",
      "total_love            9334 non-null int64\n",
      "total_wow             9334 non-null int64\n",
      "total_haha            9334 non-null int64\n",
      "total_sad             9334 non-null int64\n",
      "total_angry           9334 non-null int64\n",
      "total_reactions       9334 non-null int64\n",
      "all_subjects          9334 non-null object\n",
      "dtypes: float64(1), int32(1), int64(9), object(8)\n",
      "memory usage: 1.3+ MB\n"
     ]
    }
   ],
   "source": [
    "data.info()"
   ]
  },
  {
   "cell_type": "code",
   "execution_count": 263,
   "metadata": {},
   "outputs": [],
   "source": [
    "df = copy.deepcopy(data)"
   ]
  },
  {
   "cell_type": "code",
   "execution_count": 264,
   "metadata": {},
   "outputs": [
    {
     "name": "stderr",
     "output_type": "stream",
     "text": [
      "C:\\Users\\colefreeman\\Anaconda3\\lib\\site-packages\\ipykernel_launcher.py:2: RuntimeWarning: divide by zero encountered in log\n",
      "  \n",
      "C:\\Users\\colefreeman\\Anaconda3\\lib\\site-packages\\ipykernel_launcher.py:5: SettingWithCopyWarning: \n",
      "A value is trying to be set on a copy of a slice from a DataFrame\n",
      "\n",
      "See the caveats in the documentation: http://pandas.pydata.org/pandas-docs/stable/indexing.html#indexing-view-versus-copy\n",
      "  \"\"\"\n"
     ]
    }
   ],
   "source": [
    "for feat in ['total_like', 'total_love', 'total_wow', 'total_haha', 'total_sad', 'total_angry']:\n",
    "    df[feat] = np.log(df[feat])\n",
    "    if feat=='total_like':\n",
    "        df[feat] = df[feat].apply(lambda x: x**(1/3))\n",
    "    df[feat][np.isneginf(df[feat])]=0\n",
    "        "
   ]
  },
  {
   "cell_type": "code",
   "execution_count": 265,
   "metadata": {},
   "outputs": [
    {
     "data": {
      "text/html": [
       "<div>\n",
       "<style scoped>\n",
       "    .dataframe tbody tr th:only-of-type {\n",
       "        vertical-align: middle;\n",
       "    }\n",
       "\n",
       "    .dataframe tbody tr th {\n",
       "        vertical-align: top;\n",
       "    }\n",
       "\n",
       "    .dataframe thead th {\n",
       "        text-align: right;\n",
       "    }\n",
       "</style>\n",
       "<table border=\"1\" class=\"dataframe\">\n",
       "  <thead>\n",
       "    <tr style=\"text-align: right;\">\n",
       "      <th></th>\n",
       "      <th>altmetric_id</th>\n",
       "      <th>title</th>\n",
       "      <th>subjects</th>\n",
       "      <th>abstract</th>\n",
       "      <th>pubdate</th>\n",
       "      <th>fb_wall_count</th>\n",
       "      <th>scopus_subjects</th>\n",
       "      <th>publisher_subjects</th>\n",
       "      <th>fb_wall_urls</th>\n",
       "      <th>shares</th>\n",
       "      <th>visibility</th>\n",
       "      <th>total_like</th>\n",
       "      <th>total_love</th>\n",
       "      <th>total_wow</th>\n",
       "      <th>total_haha</th>\n",
       "      <th>total_sad</th>\n",
       "      <th>total_angry</th>\n",
       "      <th>total_reactions</th>\n",
       "      <th>all_subjects</th>\n",
       "    </tr>\n",
       "  </thead>\n",
       "  <tbody>\n",
       "    <tr>\n",
       "      <th>0</th>\n",
       "      <td>24868043.0</td>\n",
       "      <td>Engaging for a Good Cause: Sophia's Story and ...</td>\n",
       "      <td>NaN</td>\n",
       "      <td>NaN</td>\n",
       "      <td>2017-09-01T00:00:00+00:00</td>\n",
       "      <td>53</td>\n",
       "      <td>[Agricultural and Biological Sciences, Life Sc...</td>\n",
       "      <td>[Zoology]</td>\n",
       "      <td>[{'link': 'https://www.facebook.com/permalink....</td>\n",
       "      <td>6234</td>\n",
       "      <td>0</td>\n",
       "      <td>2.140830</td>\n",
       "      <td>8.703839</td>\n",
       "      <td>6.111467</td>\n",
       "      <td>2.302585</td>\n",
       "      <td>2.397895</td>\n",
       "      <td>1.791759</td>\n",
       "      <td>6504</td>\n",
       "      <td>['Agricultural and Biological Sciences', 'Life...</td>\n",
       "    </tr>\n",
       "    <tr>\n",
       "      <th>1</th>\n",
       "      <td>21773302.0</td>\n",
       "      <td>White Houseâ€™s dwindling science office leave...</td>\n",
       "      <td>[science]</td>\n",
       "      <td>NaN</td>\n",
       "      <td>2017-07-13T00:00:00+00:00</td>\n",
       "      <td>7</td>\n",
       "      <td>[General]</td>\n",
       "      <td>NaN</td>\n",
       "      <td>[{'link': 'https://www.facebook.com/permalink....</td>\n",
       "      <td>2709</td>\n",
       "      <td>3315980</td>\n",
       "      <td>2.048717</td>\n",
       "      <td>3.637586</td>\n",
       "      <td>5.298317</td>\n",
       "      <td>2.944439</td>\n",
       "      <td>7.774015</td>\n",
       "      <td>8.119399</td>\n",
       "      <td>5994</td>\n",
       "      <td>['science', 'General']</td>\n",
       "    </tr>\n",
       "    <tr>\n",
       "      <th>2</th>\n",
       "      <td>21803239.0</td>\n",
       "      <td>TFH-derived dopamine accelerates productive sy...</td>\n",
       "      <td>[science]</td>\n",
       "      <td>Protective high-affinity antibody responses de...</td>\n",
       "      <td>2017-07-12T00:00:00+00:00</td>\n",
       "      <td>413</td>\n",
       "      <td>[General]</td>\n",
       "      <td>[Immunology]</td>\n",
       "      <td>[{'link': 'https://www.facebook.com/permalink....</td>\n",
       "      <td>38272</td>\n",
       "      <td>-362</td>\n",
       "      <td>2.183874</td>\n",
       "      <td>7.842671</td>\n",
       "      <td>8.115521</td>\n",
       "      <td>3.784190</td>\n",
       "      <td>1.791759</td>\n",
       "      <td>1.609438</td>\n",
       "      <td>5948</td>\n",
       "      <td>['science', 'General', 'Immunology']</td>\n",
       "    </tr>\n",
       "    <tr>\n",
       "      <th>3</th>\n",
       "      <td>24452744.0</td>\n",
       "      <td>â€˜Gluten-free water' shows absurdity of trend...</td>\n",
       "      <td>NaN</td>\n",
       "      <td>Companies are exploiting a knowledge gap with ...</td>\n",
       "      <td>2017-08-29T00:00:00+00:00</td>\n",
       "      <td>59</td>\n",
       "      <td>NaN</td>\n",
       "      <td>NaN</td>\n",
       "      <td>[{'link': 'https://www.facebook.com/permalink....</td>\n",
       "      <td>2928</td>\n",
       "      <td>3262343</td>\n",
       "      <td>2.039732</td>\n",
       "      <td>4.394449</td>\n",
       "      <td>5.262690</td>\n",
       "      <td>8.333751</td>\n",
       "      <td>4.615121</td>\n",
       "      <td>5.666427</td>\n",
       "      <td>4826</td>\n",
       "      <td>[]</td>\n",
       "    </tr>\n",
       "    <tr>\n",
       "      <th>4</th>\n",
       "      <td>20490907.0</td>\n",
       "      <td>Galloping Heart</td>\n",
       "      <td>[medicine]</td>\n",
       "      <td>NaN</td>\n",
       "      <td>2017-05-25T00:00:00+00:00</td>\n",
       "      <td>73</td>\n",
       "      <td>[Medicine, Health Sciences]</td>\n",
       "      <td>[Medical And Health Sciences]</td>\n",
       "      <td>[{'link': 'https://www.facebook.com/permalink....</td>\n",
       "      <td>5665</td>\n",
       "      <td>4622460</td>\n",
       "      <td>2.141635</td>\n",
       "      <td>6.824374</td>\n",
       "      <td>7.963460</td>\n",
       "      <td>3.332205</td>\n",
       "      <td>1.609438</td>\n",
       "      <td>0.000000</td>\n",
       "      <td>3827</td>\n",
       "      <td>['medicine', 'Medicine', 'Health Sciences', 'M...</td>\n",
       "    </tr>\n",
       "  </tbody>\n",
       "</table>\n",
       "</div>"
      ],
      "text/plain": [
       "   altmetric_id                                              title  \\\n",
       "0    24868043.0  Engaging for a Good Cause: Sophia's Story and ...   \n",
       "1    21773302.0  White Houseâ€™s dwindling science office leave...   \n",
       "2    21803239.0  TFH-derived dopamine accelerates productive sy...   \n",
       "3    24452744.0  â€˜Gluten-free water' shows absurdity of trend...   \n",
       "4    20490907.0                                    Galloping Heart   \n",
       "\n",
       "     subjects                                           abstract  \\\n",
       "0         NaN                                                NaN   \n",
       "1   [science]                                                NaN   \n",
       "2   [science]  Protective high-affinity antibody responses de...   \n",
       "3         NaN  Companies are exploiting a knowledge gap with ...   \n",
       "4  [medicine]                                                NaN   \n",
       "\n",
       "                     pubdate  fb_wall_count  \\\n",
       "0  2017-09-01T00:00:00+00:00             53   \n",
       "1  2017-07-13T00:00:00+00:00              7   \n",
       "2  2017-07-12T00:00:00+00:00            413   \n",
       "3  2017-08-29T00:00:00+00:00             59   \n",
       "4  2017-05-25T00:00:00+00:00             73   \n",
       "\n",
       "                                     scopus_subjects  \\\n",
       "0  [Agricultural and Biological Sciences, Life Sc...   \n",
       "1                                          [General]   \n",
       "2                                          [General]   \n",
       "3                                                NaN   \n",
       "4                        [Medicine, Health Sciences]   \n",
       "\n",
       "              publisher_subjects  \\\n",
       "0                      [Zoology]   \n",
       "1                            NaN   \n",
       "2                   [Immunology]   \n",
       "3                            NaN   \n",
       "4  [Medical And Health Sciences]   \n",
       "\n",
       "                                        fb_wall_urls  shares  visibility  \\\n",
       "0  [{'link': 'https://www.facebook.com/permalink....    6234           0   \n",
       "1  [{'link': 'https://www.facebook.com/permalink....    2709     3315980   \n",
       "2  [{'link': 'https://www.facebook.com/permalink....   38272        -362   \n",
       "3  [{'link': 'https://www.facebook.com/permalink....    2928     3262343   \n",
       "4  [{'link': 'https://www.facebook.com/permalink....    5665     4622460   \n",
       "\n",
       "   total_like  total_love  total_wow  total_haha  total_sad  total_angry  \\\n",
       "0    2.140830    8.703839   6.111467    2.302585   2.397895     1.791759   \n",
       "1    2.048717    3.637586   5.298317    2.944439   7.774015     8.119399   \n",
       "2    2.183874    7.842671   8.115521    3.784190   1.791759     1.609438   \n",
       "3    2.039732    4.394449   5.262690    8.333751   4.615121     5.666427   \n",
       "4    2.141635    6.824374   7.963460    3.332205   1.609438     0.000000   \n",
       "\n",
       "   total_reactions                                       all_subjects  \n",
       "0             6504  ['Agricultural and Biological Sciences', 'Life...  \n",
       "1             5994                             ['science', 'General']  \n",
       "2             5948               ['science', 'General', 'Immunology']  \n",
       "3             4826                                                 []  \n",
       "4             3827  ['medicine', 'Medicine', 'Health Sciences', 'M...  "
      ]
     },
     "execution_count": 265,
     "metadata": {},
     "output_type": "execute_result"
    }
   ],
   "source": [
    "df.head()"
   ]
  },
  {
   "cell_type": "code",
   "execution_count": 266,
   "metadata": {},
   "outputs": [],
   "source": [
    "df['total_reactions'] = df['total_like'] + df['total_love'] + df['total_wow'] + df['total_haha'] + df['total_sad'] + df['total_angry']"
   ]
  },
  {
   "cell_type": "code",
   "execution_count": 267,
   "metadata": {},
   "outputs": [],
   "source": [
    "df['tot_pos'] = (df['total_love'] + (df['total_wow'] * df['total_love'] /\n",
    "                                        (df['total_love'] + df['total_sad'] + df['total_angry']))) / df['total_reactions']\n",
    "\n",
    "df['tot_neg'] = (df['total_angry'] + df['total_sad'] + (df['total_wow'] * (df['total_angry'] + df['total_sad']) /\n",
    "                                        (df['total_love'] + df['total_sad'] + df['total_angry']))) / df['total_reactions']\n",
    "\n",
    "# df['tot_pos'] = df['total_love'] / df['total_reactions']\n",
    "\n",
    "# df['tot_neg'] = (df['total_angry'] + df['total_sad']) / df['total_reactions']"
   ]
  },
  {
   "cell_type": "code",
   "execution_count": 268,
   "metadata": {},
   "outputs": [],
   "source": [
    "df['intensity'] = df['tot_pos'] + df['tot_neg']"
   ]
  },
  {
   "cell_type": "code",
   "execution_count": 269,
   "metadata": {},
   "outputs": [],
   "source": [
    "df['valence'] = df['tot_pos'] > df['tot_neg']\n",
    "df['valence'] = df['valence'].apply(lambda x: 1 if x else -1)"
   ]
  },
  {
   "cell_type": "code",
   "execution_count": 270,
   "metadata": {},
   "outputs": [
    {
     "name": "stderr",
     "output_type": "stream",
     "text": [
      "C:\\Users\\colefreeman\\Anaconda3\\lib\\site-packages\\ipykernel_launcher.py:1: RuntimeWarning: invalid value encountered in arctan\n",
      "  \"\"\"Entry point for launching an IPython kernel.\n"
     ]
    }
   ],
   "source": [
    "df['controversy'] = 1 - 4 * abs(np.pi/4 - np.arctan(df['tot_neg']/df['tot_pos'])) / np.pi"
   ]
  },
  {
   "cell_type": "code",
   "execution_count": 271,
   "metadata": {},
   "outputs": [],
   "source": [
    "df = df.drop(labels=['subjects', 'abstract', 'pubdate', 'scopus_subjects', 'publisher_subjects'], axis=1)"
   ]
  },
  {
   "cell_type": "code",
   "execution_count": 272,
   "metadata": {},
   "outputs": [
    {
     "data": {
      "text/html": [
       "<div>\n",
       "<style scoped>\n",
       "    .dataframe tbody tr th:only-of-type {\n",
       "        vertical-align: middle;\n",
       "    }\n",
       "\n",
       "    .dataframe tbody tr th {\n",
       "        vertical-align: top;\n",
       "    }\n",
       "\n",
       "    .dataframe thead th {\n",
       "        text-align: right;\n",
       "    }\n",
       "</style>\n",
       "<table border=\"1\" class=\"dataframe\">\n",
       "  <thead>\n",
       "    <tr style=\"text-align: right;\">\n",
       "      <th></th>\n",
       "      <th>altmetric_id</th>\n",
       "      <th>title</th>\n",
       "      <th>fb_wall_count</th>\n",
       "      <th>fb_wall_urls</th>\n",
       "      <th>shares</th>\n",
       "      <th>visibility</th>\n",
       "      <th>total_like</th>\n",
       "      <th>total_love</th>\n",
       "      <th>total_wow</th>\n",
       "      <th>total_haha</th>\n",
       "      <th>total_sad</th>\n",
       "      <th>total_angry</th>\n",
       "      <th>total_reactions</th>\n",
       "      <th>all_subjects</th>\n",
       "      <th>tot_pos</th>\n",
       "      <th>tot_neg</th>\n",
       "      <th>intensity</th>\n",
       "      <th>valence</th>\n",
       "      <th>controversy</th>\n",
       "    </tr>\n",
       "  </thead>\n",
       "  <tbody>\n",
       "    <tr>\n",
       "      <th>2796</th>\n",
       "      <td>21367591.0</td>\n",
       "      <td>comparative effectiveness rituximab relative i...</td>\n",
       "      <td>1</td>\n",
       "      <td>[{'link': 'https://www.facebook.com/permalink....</td>\n",
       "      <td>0</td>\n",
       "      <td>1009</td>\n",
       "      <td>0.0</td>\n",
       "      <td>0.000000</td>\n",
       "      <td>0.0</td>\n",
       "      <td>0.0</td>\n",
       "      <td>0.000000</td>\n",
       "      <td>1.609438</td>\n",
       "      <td>1.609438</td>\n",
       "      <td>['neurology', 'Health Sciences', 'Clinical Sci...</td>\n",
       "      <td>0.0</td>\n",
       "      <td>1.0</td>\n",
       "      <td>1.0</td>\n",
       "      <td>-1</td>\n",
       "      <td>0.0</td>\n",
       "    </tr>\n",
       "    <tr>\n",
       "      <th>1769</th>\n",
       "      <td>30665077.0</td>\n",
       "      <td>Why Bermuda's ban on same-sex marriage will no...</td>\n",
       "      <td>3</td>\n",
       "      <td>[{'link': 'https://www.facebook.com/permalink....</td>\n",
       "      <td>0</td>\n",
       "      <td>-3</td>\n",
       "      <td>0.0</td>\n",
       "      <td>0.000000</td>\n",
       "      <td>0.0</td>\n",
       "      <td>0.0</td>\n",
       "      <td>0.693147</td>\n",
       "      <td>2.079442</td>\n",
       "      <td>2.772589</td>\n",
       "      <td>[]</td>\n",
       "      <td>0.0</td>\n",
       "      <td>1.0</td>\n",
       "      <td>1.0</td>\n",
       "      <td>-1</td>\n",
       "      <td>0.0</td>\n",
       "    </tr>\n",
       "    <tr>\n",
       "      <th>5451</th>\n",
       "      <td>20161710.0</td>\n",
       "      <td>Investigation of ac-magnetic field stimulated ...</td>\n",
       "      <td>4</td>\n",
       "      <td>[{'link': 'https://www.facebook.com/permalink....</td>\n",
       "      <td>0</td>\n",
       "      <td>10007</td>\n",
       "      <td>0.0</td>\n",
       "      <td>0.693147</td>\n",
       "      <td>0.0</td>\n",
       "      <td>0.0</td>\n",
       "      <td>0.000000</td>\n",
       "      <td>0.000000</td>\n",
       "      <td>0.693147</td>\n",
       "      <td>['science', 'Nanobiotechnology']</td>\n",
       "      <td>1.0</td>\n",
       "      <td>0.0</td>\n",
       "      <td>1.0</td>\n",
       "      <td>1</td>\n",
       "      <td>0.0</td>\n",
       "    </tr>\n",
       "    <tr>\n",
       "      <th>5776</th>\n",
       "      <td>29487269.0</td>\n",
       "      <td>A 100-Year Review: Yogurt and other cultured d...</td>\n",
       "      <td>2</td>\n",
       "      <td>[{'link': 'https://www.facebook.com/permalink....</td>\n",
       "      <td>0</td>\n",
       "      <td>5131</td>\n",
       "      <td>0.0</td>\n",
       "      <td>0.693147</td>\n",
       "      <td>0.0</td>\n",
       "      <td>0.0</td>\n",
       "      <td>0.000000</td>\n",
       "      <td>0.000000</td>\n",
       "      <td>0.693147</td>\n",
       "      <td>['Biochemistry, Genetics and Molecular Biology...</td>\n",
       "      <td>1.0</td>\n",
       "      <td>0.0</td>\n",
       "      <td>1.0</td>\n",
       "      <td>1</td>\n",
       "      <td>0.0</td>\n",
       "    </tr>\n",
       "    <tr>\n",
       "      <th>3993</th>\n",
       "      <td>17413233.0</td>\n",
       "      <td>Interaction of marijuana and alcohol on fatal ...</td>\n",
       "      <td>2</td>\n",
       "      <td>[{'link': 'https://www.facebook.com/permalink....</td>\n",
       "      <td>1</td>\n",
       "      <td>-2</td>\n",
       "      <td>0.0</td>\n",
       "      <td>0.000000</td>\n",
       "      <td>0.0</td>\n",
       "      <td>0.0</td>\n",
       "      <td>0.000000</td>\n",
       "      <td>0.693147</td>\n",
       "      <td>0.693147</td>\n",
       "      <td>[]</td>\n",
       "      <td>0.0</td>\n",
       "      <td>1.0</td>\n",
       "      <td>1.0</td>\n",
       "      <td>-1</td>\n",
       "      <td>0.0</td>\n",
       "    </tr>\n",
       "  </tbody>\n",
       "</table>\n",
       "</div>"
      ],
      "text/plain": [
       "      altmetric_id                                              title  \\\n",
       "2796    21367591.0  comparative effectiveness rituximab relative i...   \n",
       "1769    30665077.0  Why Bermuda's ban on same-sex marriage will no...   \n",
       "5451    20161710.0  Investigation of ac-magnetic field stimulated ...   \n",
       "5776    29487269.0  A 100-Year Review: Yogurt and other cultured d...   \n",
       "3993    17413233.0  Interaction of marijuana and alcohol on fatal ...   \n",
       "\n",
       "      fb_wall_count                                       fb_wall_urls  \\\n",
       "2796              1  [{'link': 'https://www.facebook.com/permalink....   \n",
       "1769              3  [{'link': 'https://www.facebook.com/permalink....   \n",
       "5451              4  [{'link': 'https://www.facebook.com/permalink....   \n",
       "5776              2  [{'link': 'https://www.facebook.com/permalink....   \n",
       "3993              2  [{'link': 'https://www.facebook.com/permalink....   \n",
       "\n",
       "      shares  visibility  total_like  total_love  total_wow  total_haha  \\\n",
       "2796       0        1009         0.0    0.000000        0.0         0.0   \n",
       "1769       0          -3         0.0    0.000000        0.0         0.0   \n",
       "5451       0       10007         0.0    0.693147        0.0         0.0   \n",
       "5776       0        5131         0.0    0.693147        0.0         0.0   \n",
       "3993       1          -2         0.0    0.000000        0.0         0.0   \n",
       "\n",
       "      total_sad  total_angry  total_reactions  \\\n",
       "2796   0.000000     1.609438         1.609438   \n",
       "1769   0.693147     2.079442         2.772589   \n",
       "5451   0.000000     0.000000         0.693147   \n",
       "5776   0.000000     0.000000         0.693147   \n",
       "3993   0.000000     0.693147         0.693147   \n",
       "\n",
       "                                           all_subjects  tot_pos  tot_neg  \\\n",
       "2796  ['neurology', 'Health Sciences', 'Clinical Sci...      0.0      1.0   \n",
       "1769                                                 []      0.0      1.0   \n",
       "5451                   ['science', 'Nanobiotechnology']      1.0      0.0   \n",
       "5776  ['Biochemistry, Genetics and Molecular Biology...      1.0      0.0   \n",
       "3993                                                 []      0.0      1.0   \n",
       "\n",
       "      intensity  valence  controversy  \n",
       "2796        1.0       -1          0.0  \n",
       "1769        1.0       -1          0.0  \n",
       "5451        1.0        1          0.0  \n",
       "5776        1.0        1          0.0  \n",
       "3993        1.0       -1          0.0  "
      ]
     },
     "execution_count": 272,
     "metadata": {},
     "output_type": "execute_result"
    }
   ],
   "source": [
    "df.sort_values(\"intensity\", ascending=False).head()"
   ]
  },
  {
   "cell_type": "code",
   "execution_count": 273,
   "metadata": {},
   "outputs": [
    {
     "data": {
      "text/plain": [
       "0.05928090374120365"
      ]
     },
     "execution_count": 273,
     "metadata": {},
     "output_type": "execute_result"
    }
   ],
   "source": [
    "np.mean(df['controversy']) #* df['valence'])"
   ]
  },
  {
   "cell_type": "code",
   "execution_count": 274,
   "metadata": {},
   "outputs": [
    {
     "data": {
      "text/plain": [
       "<seaborn.axisgrid.JointGrid at 0x623a65b828>"
      ]
     },
     "execution_count": 274,
     "metadata": {},
     "output_type": "execute_result"
    },
    {
     "data": {
      "image/png": "[encoded data removed]",
      "text/plain": [
       "<Figure size 432x432 with 3 Axes>"
      ]
     },
     "metadata": {},
     "output_type": "display_data"
    }
   ],
   "source": [
    "sns.set()\n",
    "\n",
    "sns.jointplot(x='tot_pos', y='tot_neg', data=df, kind='hex')"
   ]
  },
  {
   "cell_type": "code",
   "execution_count": 277,
   "metadata": {},
   "outputs": [
    {
     "data": {
      "text/plain": [
       "<matplotlib.axes._subplots.AxesSubplot at 0x623a8ef828>"
      ]
     },
     "execution_count": 277,
     "metadata": {},
     "output_type": "execute_result"
    },
    {
     "data": {
      "image/png": "[encoded data removed]",
      "text/plain": [
       "<Figure size 432x288 with 1 Axes>"
      ]
     },
     "metadata": {},
     "output_type": "display_data"
    }
   ],
   "source": [
    "sns.scatterplot(x='tot_pos', y='tot_neg', hue='intensity', data=df, alpha=0.6, cmap='blues')"
   ]
  },
  {
   "cell_type": "code",
   "execution_count": null,
   "metadata": {},
   "outputs": [],
   "source": []
  }
 ],
 "metadata": {
  "kernelspec": {
   "display_name": "Python 3",
   "language": "python",
   "name": "python3"
  },
  "language_info": {
   "codemirror_mode": {
    "name": "ipython",
    "version": 3
   },
   "file_extension": ".py",
   "mimetype": "text/x-python",
   "name": "python",
   "nbconvert_exporter": "python",
   "pygments_lexer": "ipython3",
   "version": "3.7.0"
  }
 },
 "nbformat": 4,
 "nbformat_minor": 2
}
