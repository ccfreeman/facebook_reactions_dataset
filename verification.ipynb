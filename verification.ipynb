{
 "cells": [
  {
   "cell_type": "code",
   "execution_count": 2,
   "metadata": {},
   "outputs": [
    {
     "name": "stdout",
     "output_type": "stream",
     "text": [
      "Collecting textstat\n",
      "  Downloading https://files.pythonhosted.org/packages/66/73/97bb64c89d6f2b24be6ad76007823e19b4c32ed4d484420b3ec6892ac440/textstat-0.5.6-py3-none-any.whl\n",
      "Collecting repoze.lru (from textstat)\n",
      "  Downloading https://files.pythonhosted.org/packages/b0/30/6cc0c95f0b59ad4b3b9163bff7cdcf793cc96fac64cf398ff26271f5cf5e/repoze.lru-0.7-py3-none-any.whl\n",
      "Collecting pyphen (from textstat)\n",
      "  Downloading https://files.pythonhosted.org/packages/15/82/08a3629dce8d1f3d91db843bb36d4d7db6b6269d5067259613a0d5c8a9db/Pyphen-0.9.5-py2.py3-none-any.whl (3.0MB)\n",
      "Installing collected packages: repoze.lru, pyphen, textstat\n",
      "Successfully installed pyphen-0.9.5 repoze.lru-0.7 textstat-0.5.6\n"
     ]
    },
    {
     "name": "stderr",
     "output_type": "stream",
     "text": [
      "You are using pip version 19.0.3, however version 19.1.1 is available.\n",
      "You should consider upgrading via the 'python -m pip install --upgrade pip' command.\n"
     ]
    }
   ],
   "source": [
    "!pip install textstat"
   ]
  },
  {
   "cell_type": "code",
   "execution_count": 2,
   "metadata": {},
   "outputs": [],
   "source": [
    "import textstat as ts"
   ]
  },
  {
   "cell_type": "code",
   "execution_count": 3,
   "metadata": {},
   "outputs": [],
   "source": [
    "text = \"\"\"\n",
    "Patients with spinal cord injury (SCI) undergo severe loss of bone mineral below the level of lesion, and data on available treatment options after SCI is scarce. The aim of this work was to investigate the therapeutic effect of cannabidiol (CBD), a non-psychoactive cannabis, on sublesional bone loss in a rat model of SCI. The adult male rats were exposed to surgical transection of the cord and treated with CBD for consecutive 14 days. It was found that CBD treatment elevated the serum levels of osteocalcin, reduced the serum levels of collagen type I cross-linked C-telopeptide, and enhanced bone mineral density of tibiae and femurs. Treatment of SCI rats with CBD enhanced bone volume, trabecular thickness, and trabecular number, and reduced trabecular separation in proximal tibiae, and increased ultimate compressive load, stiffness, and energy to max force of femoral diaphysis. Treatment of SCI rats with CBD upregulated mRNA expression of alkaline phosphatase and osteoprotegerin and downregulated mRNA expression of receptor activator of NF-κB ligand and tartrate-resistant acid phosphatase in femurs. Furthermore, treatment of SCI rats with CBD enhanced mRNA expression of wnt3a, Lrp5 and ctnnb1 in femurs. In conclusion, CBD administration attenuated SCI-induced sublesional cancellous bone loss.\n",
    "\"\"\""
   ]
  },
  {
   "cell_type": "code",
   "execution_count": 4,
   "metadata": {},
   "outputs": [
    {
     "data": {
      "text/plain": [
       "197"
      ]
     },
     "execution_count": 4,
     "metadata": {},
     "output_type": "execute_result"
    }
   ],
   "source": [
    "ts.lexicon_count(text, removepunct=True)"
   ]
  },
  {
   "cell_type": "code",
   "execution_count": 5,
   "metadata": {},
   "outputs": [
    {
     "data": {
      "text/plain": [
       "8"
      ]
     },
     "execution_count": 5,
     "metadata": {},
     "output_type": "execute_result"
    }
   ],
   "source": [
    "ts.sentence_count(text)"
   ]
  },
  {
   "cell_type": "code",
   "execution_count": 6,
   "metadata": {},
   "outputs": [
    {
     "data": {
      "text/plain": [
       "29.59"
      ]
     },
     "execution_count": 6,
     "metadata": {},
     "output_type": "execute_result"
    }
   ],
   "source": [
    "ts.flesch_reading_ease(text)"
   ]
  },
  {
   "cell_type": "code",
   "execution_count": 7,
   "metadata": {},
   "outputs": [
    {
     "data": {
      "text/plain": [
       "15.2"
      ]
     },
     "execution_count": 7,
     "metadata": {},
     "output_type": "execute_result"
    }
   ],
   "source": [
    "ts.flesch_kincaid_grade(text)"
   ]
  },
  {
   "cell_type": "code",
   "execution_count": 8,
   "metadata": {},
   "outputs": [
    {
     "data": {
      "text/plain": [
       "16.95"
      ]
     },
     "execution_count": 8,
     "metadata": {},
     "output_type": "execute_result"
    }
   ],
   "source": [
    "ts.gunning_fog(text)"
   ]
  },
  {
   "cell_type": "code",
   "execution_count": 9,
   "metadata": {},
   "outputs": [
    {
     "data": {
      "text/plain": [
       "17.7"
      ]
     },
     "execution_count": 9,
     "metadata": {},
     "output_type": "execute_result"
    }
   ],
   "source": [
    "ts.automated_readability_index(text)"
   ]
  },
  {
   "cell_type": "code",
   "execution_count": 10,
   "metadata": {},
   "outputs": [
    {
     "data": {
      "text/plain": [
       "15.03"
      ]
     },
     "execution_count": 10,
     "metadata": {},
     "output_type": "execute_result"
    }
   ],
   "source": [
    "ts.coleman_liau_index(text)"
   ]
  },
  {
   "cell_type": "code",
   "execution_count": 11,
   "metadata": {},
   "outputs": [],
   "source": [
    "import pandas as pd\n",
    "import numpy as np\n",
    "from numpy import nan\n",
    "import copy"
   ]
  },
  {
   "cell_type": "code",
   "execution_count": 12,
   "metadata": {},
   "outputs": [],
   "source": [
    "def openData():\n",
    "    \"\"\"\n",
    "    Opens the csv with the data and cleans the dataset and returns a dataframe.\n",
    "    \"\"\"\n",
    "    # Sort data in descending order by page visibility. This ensures duplicates without page followers are dropped.\n",
    "#     data = pd.read_csv(\"../data/facebook_data_cleaned.csv\").sort_values('visibility', ascending=False)\n",
    "#     data = data.drop_duplicates(['altmetric_id'], keep='first')\n",
    "\n",
    "    data = pd.read_csv(\"sample.csv\")\n",
    "    \n",
    "    data['fb_wall_urls'] = data['fb_wall_urls'].apply(lambda x: eval(x))\n",
    "    \n",
    "    def func(inp):\n",
    "        if inp is nan:\n",
    "            return inp\n",
    "        try:\n",
    "            res = eval(inp)\n",
    "        except:\n",
    "            res = [inp]\n",
    "        return res\n",
    "    \n",
    "    data['subjects'] = data['subjects'].map(func)\n",
    "    data['scopus_subjects'] = data['scopus_subjects'].map(func)\n",
    "    data['publisher_subjects'] = data['publisher_subjects'].map(func)\n",
    "    \n",
    "    data['fb_wall_count'] = data['fb_wall_count'].astype(int)\n",
    "    \n",
    "    return data\n"
   ]
  },
  {
   "cell_type": "code",
   "execution_count": 13,
   "metadata": {},
   "outputs": [],
   "source": [
    "df = openData()"
   ]
  },
  {
   "cell_type": "code",
   "execution_count": 16,
   "metadata": {},
   "outputs": [
    {
     "name": "stdout",
     "output_type": "stream",
     "text": [
      "NEW ARTICLE: gamers insights phenomenology normal gaming game addiction mixed methods study\n",
      "---------------------------\n",
      "There are 1 links. Here they are:\n",
      "\n",
      "https://www.facebook.com/permalink.php?story_fbid=1931566433827258&id=1550435245273714\n",
      "How many comments?0\n",
      "Were there curse words? ('y' or 'n') n\n",
      "Please input text from article (follow any of the links) >>In response to calls for further research into the phenomenology of Internet gaming disorder (IGD), we used a community-engaged consensus development approach to evaluate how members of the “gamer culture” describe problematic gaming and the relationship of these descriptions to the proposed IGD criteria. Two focus groups of gamers were recruited at a video game convention. Participants were asked to submit suggestions for signs of game “addiction”. Participants discussed and ranked the criteria in order of conceptual importance. The rankings were analyzed quantitatively, and then a multidisciplinary team compared the ranked criteria to the DSM-5 IGD proposed criteria. The strongest agreement between participants’ rankings and IGD symptomatology was found for harms/functional impairment due to gaming, continued use despite problems, unsuccessful attempts to control gaming, and loss of interest in previous hobbies and entertainment. There was less support for other IGD criteria. Participants also offered new content domains. These findings suggest that collaborative knowledge-building approaches may help researchers and policymakers understand the characteristics and processes specific to problematic video game play and improve content validity of IGD criteria. Future efforts may benefit from multi-stakeholder approaches to refine IGD criteria and inform theory, measurement and intervention.\n",
      "NEW ARTICLE: confirmed marijuana use lymphocyte count black people living hiv\n",
      "---------------------------\n",
      "There are 4 links. Here they are:\n",
      "\n",
      "https://www.facebook.com/permalink.php?story_fbid=1590225127714532&id=450103581726698\n",
      "How many comments?0\n",
      "Were there curse words? ('y' or 'n') n\n",
      "https://www.facebook.com/permalink.php?story_fbid=1724362414538129&id=1540618956245810\n",
      "How many comments?3\n",
      "Were there curse words? ('y' or 'n') n\n",
      "https://www.facebook.com/permalink.php?story_fbid=923498031130917&id=309387789208614\n",
      "How many comments?107\n",
      "Were there curse words? ('y' or 'n') n\n",
      "https://www.facebook.com/permalink.php?story_fbid=1423423784377358&id=165785043474578\n",
      "How many comments?0\n",
      "Were there curse words? ('y' or 'n') n\n",
      "Please input text from article (follow any of the links) >>n\n",
      "NEW ARTICLE: neural tube closure cellular molecular biomechanical mechanisms\n",
      "---------------------------\n",
      "There are 1 links. Here they are:\n",
      "\n",
      "https://www.facebook.com/permalink.php?story_fbid=880311142072656&id=371188272984948\n",
      "How many comments?2\n",
      "Were there curse words? ('y' or 'n') n\n",
      "Please input text from article (follow any of the links) >>How the neural tube (NT) forms is a central issue in developmental biology. Vertebrate neurulation is a complex morphogenetic process that requires the coordination of many cellular and molecular events, and is regulated by more than 300 genes in mammals (Wilde et al., 2014). Primary neurulation (see Glossary, Box 1) – the process by which the NT closes from an open neural plate (NP) – is achieved sequentially in distinct steps (Fig. 1): the NP is initially induced to differentiate, it then undergoes bending to create the neural folds, which elevate towards the dorsal midline, and finally the neural fold tips fuse to complete the NT. However, primary neurulation varies between species (see Box 2). For example, there is also a sequence of neurulation events along the body axis that involves multi-site, progressive closure (‘zippering’) in mammals, a somewhat simpler sequence of closure events in birds, and almost simultaneous closure at all axial levels in amphibia (Fig. 2). Although mammals, birds and amphibians have differences in primary neurulation all undergo ‘secondary’ neurulation (Fig. 1; see Glossary, Box 1) in an apparently similar manner. In this process, a solid cord of NT progenitor cells in the developing tail bud becomes ‘canalized’ to form a neuroepithelium (NE) surrounding a lumen, without formation or closure of neural folds (Copp et al., 2015). Neurulation in teleost fish has been likened to secondary neurulation in higher vertebrates.  Box 1. Glossary Anencephaly: Absence of brain and skull vault due to neural tissue degeneration following failed cranial neural tube closure.  Apical constriction: Contraction of the apical side of a cell.  Closure 1: The initial neural tube closure event; at the hindbrain/cervical boundary in mice.  Convergent extension (CE): The process by which a tissue narrows along its mediolateral axis (convergence) and elongates along its anteroposterior/rostrocaudal axis (extension).  Craniorachischisis: An open neural tube defect involving the midbrain, hindbrain and entire spinal cord.  Exencephaly: Failure of neural tube closure in the developing brain; the precursor of anencephaly.  Filopodia: Spike-like cellular actin-containing cellular protrusions.  Holoprosencephaly: Severe brain defect resulting from failure of the forebrain to divide into bilateral hemispheres.  Interkinetic nuclear migration (IKNM): The movement of nuclei along the apicobasal axis, depending on the cell cycle in a pseudostratified epithelium.  Junctional exchange: Cellular partner rearrangements, such as those seen during convergent extension of epithelial intercalation, in which existing cell junctions are replaced by novel junctions with different cells.  Lamellipodia (ruffles): Sheet-like cellular actin-containing cellular protrusions.  Neuromesodermal progenitors: Bi-potential progenitor cells found in the tailbud that give rise to both neuroepithelial and mesodermal derivatives.  Primary neurulation: Formation of the neural tube by bending of the neuroepithelium to generate the neural folds that elevate and fuse in the midline.  Secondary neurulation: Formation of neural tube in the lower sacral and coccygeal regions by an internal process of epithelialization, without neural fold formation or closure.  Spina bifida or spina bifida aperta: A congenital malformation of the developing spinal cord due to failure of neural tube closure (also called myelomeningocele).  Fig. 1. Download figureOpen in new tabDownload powerpoint Fig. 1. An overview of primary and secondary neurulation. (A) Schematic representation of primary neurulation involving elevation of the neural folds (left panel), followed by their bending (middle panel) and fusion (right panel). DLHP, dorsolateral hinge point; MHP, median hinge point; NC, notochord; NE, neuroepithelium; NNE, non-neural ectoderm; PM, paraxial mesoderm. (B) Secondary neurulation. Tail-bud cells condense (left panel) in the midline to form the medullary cord. The medullary cord undergoes epithelialization (middle panel) around a lumen (red) while the notochordal precursor remains solid, generating the secondary neural tube and notochord (right panel).  Box 2. Variations in neurulation between vertebrates Neurulation varies across species, both with regard to the number of closure points, their timing and the order in which these points close. In mice, the initial neural tube (NT) closure point (closure 1; see Glossary, Box 1) is at the hindbrain/cervical boundary, with a second independent initiation point (closure 2) at the forebrain/midbrain boundary. Closure (‘zippering’) proceeds both rostrally and caudally from these sites (Fig. 2A). A third initiation point (closure 3) is located at the most rostral end of the forebrain and closure proceeds backwards from this site towards closure 2 (Fig. 2A) (Copp and Greene, 2010). These multiple closure initiation sites create three neuropores (open regions of the NT): the anterior and hindbrain neuropores in the cranial region and the posterior neuropore (PNP) in the low spinal region. Neurulation in humans appears to be slightly different: human embryos between Carnegie stages 8 and 13 display two closure initiation sites, corresponding to mouse closures 1 and 3, whereas there is no apparent equivalent to closure 2 in humans (O'Rahilly and Muller, 2002). In non-mammalian vertebrates, there is progressively more divergence in the neurulation process with increasing evolutionary separation. The chick, for example, has two points of closure initiation: at the level of the future midbrain and at the hindbrain-cervical boundary, with bi-directional zippering between the sites (Fig. 2B) (Van Straaten et al., 1996). By contrast, Xenopus embryos exhibit closure almost simultaneously along the entire body axis and in teleost fish there is no formation of neural folds at all; rather, the NP cells coalesce to form a neural keel and the NT lumen opens subsequently within this structure.  Fig. 2. Download figureOpen in new tabDownload powerpoint Fig. 2. Comparative schematic summary of neurulation in different vertebrates. Key features of neurulation are shown for (A) mouse, (B) chick, (C) Xenopus and (D) zebrafish. Cross-sections of the mouse, chick and Xenopus neural tube are shown with typical appearance in anterior and posterior embryonic regions; for zebrafish, cross-sections of the midbrain after closure and during neural keel formation are shown. The arrows in A and B indicate directions of closure. Arrowheads indicate hinge points. EVL, envelope layer; NE, neuroepithelium; NNE, non-neural ectoderm.  These neurulation mechanisms involve not only the NE itself but also the surrounding tissues. Indeed, the non-neural (surface) ectoderm (NNE), mesoderm and notochord have all been implicated in regulating NT closure (NTC). Importantly, failure of the dynamic morphological changes of neurulation lead to perturbations in NTC, generating neural tube defects (NTDs, see Box 3) which are among the most common human birth defects (Greene and Copp, 2014). Thus, an understanding of the mechanisms governing NTC may ultimately assist in the development of methods for predicting and preventing NTDs.  Box 3. Human neural tube defects Neural tube defects (NTDs) are among the commonest of birth defects, with a frequency that typically ranges between 0.5 and 2 per 1000 pregnancies (Copp et al., 2015). However, in some geographical regions, e.g. Northern China, frequencies as high as 10 per 1000 births have been reported (Li et al., 2006). Failure of fusion in the cranial region results in exencephaly, which progresses to anencephaly (see Glossary, Box 1), and affected foetuses are stillborn or die postnatally. Open NT in the spinal region leads to a variety of NTDs with the most severe being myelomeningocele (also called open spina bifida or spina bifida aperta; see Glossary, Box 1). Disability in NTDs results not from abnormal differentiation of the neural tissue but rather from its progressive degeneration through contact with the amniotic fluid, making foetal surgery to cover and protect the lesion a promising therapeutic approach (Adzick et al., 2011). In addition, there is a wide spectrum of closed (skin covered) spinal dysraphisms probably caused by defective secondary neurulation, in view of their low axial level. The recent identification of neuromesodermal progenitors (Henrique et al., 2015; see Glossary, Box 1) in the tail bud might explain the poor separation of neural and mesodermal tissues in these lesions, and the frequent association with lipomas (lipomyelomeningocele) (Finn and Walker, 2007). More than 300 genes have been identified to cause NTDs in mice (Wilde et al., 2014), whereas in humans 82 genes have been considered as genetic risk factors (Pangilinan et al., 2012). Even though the risk of an affected NTD pregnancy is increased with a previous NTD occurrence, human NTDs exhibit features of multigenic inheritance with an important role for non-genetic factors (see Box 4).  In this Review, we describe recent advances in our understanding of neurulation mechanisms, focusing on the key signalling pathways, their transcriptional control, the cellular behaviours and the resulting physical forces that need to be coordinated in a regulated spatiotemporal manner. The risk factors for human NTDs and their primary prevention with nutritional supplements, including folic acid, are briefly summarized in Box 4.  Box 4. Environmental risk factors and prevention of neural tube defects Recognized environmental influences on the development of neural tube defects (NTDs) include factors such as maternal anticonvulsant usage in early pregnancy (Werler et al., 2011) and poor nutritional status (especially low folate intake). Indeed, peri-conceptional folic acid supplementation can prevent a proportion of NTDs, as demonstrated in clinical trials (Blom et al., 2006). Although supplementation with folic acid is recommended for women planning a pregnancy, it is only countries with mandatory fortification of food with folic acid that have seen significant reductions in NTD prevalence. Some NTDs are not preventable by folic acid, and inositol has emerged as a potential preventive agent in ‘folate non-responsive’ NTD mouse models (Burren et al., 2010; Greene and Copp, 1997). A recent pilot clinical trial reported no recurrences of NTD in highly predisposed women who took inositol peri-conceptionally (Greene et al., 2016). However, larger-scale studies are needed to establish whether inositol is effective in preventing NTDs. Inositol supplementation in mouse embryo culture also rescued NTDs induced by hyperglycemia (Baker et al., 1990) raising the possibility that inositol could be beneficial in counteracting the increased risk of NTDs in maternal diabetes (Bell et al., 2012).  The initiation of NTC: the role of CE In all of the model species in which NT formation has been studied, an initiating process involves the mediolateral (ML) convergence and anterior-posterior (AP) (or rostro-caudal) extension of axial tissues, including the NP. This process of convergent extension (CE; see Glossary, Box 1), which is responsible for shaping the NP before closure, is classically linked with the non-canonical Wnt/planar cell polarity (PCP) pathway. Accordingly, mutants in which PCP signalling is perturbed display NTDs caused by aberrant CE (where examined). As we discuss below, the study of such PCP mutants has revealed key insights into the cellular and molecular events that control CE during NTC.  Identifying a role for the PCP pathway during NTC The non-canonical Wnt/PCP pathway is strongly conserved from Drosophila to higher vertebrates. It involves six core PCP proteins (see Box 5) that, in Drosophila, localize proximally or distally at planar polarized cell-cell junctions, forming complexes that are required for signalling function and that act to polarize cells within the plane of a tissue (reviewed by Gray et al., 2011). The significance of PCP-dependent CE in NTC was first demonstrated in post-gastrulation Xenopus embryos (Goto and Keller, 2002; Wallingford and Harland, 2002); defective CE in the midline, following the disruption of Wnt/PCP signalling, caused the NP to be too wide for the neural folds to reach the midline and fuse. Failed CE (resulting in a wide NP and short AP axis) is also observed in mice carrying mutations in core PCP genes such as Vangl2 (Greene et al., 1998). These mice fail to undergo closure 1 (see Glossary, Box 1), resulting in craniorachischisis (see Glossary, Box 1) a severe NTD in which the midbrain, hindbrain and the entire spinal region remain open (Greene et al., 1998; Murdoch et al., 2001). Similar phenotypes with a broad and short body axis have been observed in zebrafish PCP mutants (Ciruna et al., 2006; Tawk et al., 2007). Importantly, PCP mutations have been identified in humans with NTDs (reviewed by Juriloff and Harris, 2012) and evidence of abnormal CE has been observed in human foetuses with craniorachischisis (Kirillova et al., 2000). Furthermore, while homozygotes for PCP mutations display craniorachischisis, PCP heterozygotes (e.g. Vangl2Lp/+) and compound heterozygotes (e.g. Vangl2Lp/+ with mutations in Ptk7, Sec24b or syndecan 4) can develop spina bifida (see Glossary, Box 1), indicating that later events of spinal neurulation are also under the control of PCP signalling (Escobedo et al., 2013; Lu et al., 2004; Merte et al., 2010). However, even in embryos with craniorachischisis (e.g. Vangl2Lp/Lp), the forebrain NT is generally closed, suggesting that Wnt/PCP signalling may not be limiting for NTC at the most rostral levels (Greene et al., 1998; Murdoch et al., 2003).  Box 5. The planar cell polarity pathway Embedded Image  The core planar cell polarity (PCP) module consists of six proteins that localize in adherens junctions: three transmembrane receptors – Frizzled (Fz), Strabismus (Van Gogh or Vangl in vertebrates) and Flamingo [known as starry night (Stan) or Celsr in vertebrates] – and three cytosolic proteins – Dishevelled (Dsh; known as Dvl in vertebrates), Prickle (Pk) and Diego (Dgo; known as diversin in vertebrates). In Drosophila, these components display an asymmetric localization, but in vertebrates their distribution has not been well characterized. Downstream signalling involves small Rho-GTPases, activation of Daam1 and c-Jun N-terminal kinase (JNK), leading to a variety of cellular responses, including cytoskeletal and (in Drosophila) transcriptional regulation (Kibar et al., 2007; Roszko et al., 2009). The Fat/Dachsous module, which has been suggested to act upstream or in parallel to the PCP pathway, comprises the atypical cadherins Fat and Dachsous (Dchs) that bind each other through their large extracellular domains, and are regulated by the cytosolic kinase Four-jointed (Fjx1). Evidence from Drosophila suggests that polarized localization of Fat and Dachsous provides a cue for directional processes such as oriented cell division (Hale and Strutt, 2015; Matis and Axelrod, 2013). Other PCP-related proteins implicated in vertebrate convergent extension include Scribble and Ptk7 (protein tyrosine kinase 7).  The Fat/Dachsous/Four-jointed pathway, which functions upstream or in parallel with core PCP signalling in Drosophila (see Box 5), has also been implicated in vertebrate NTC. Fat1−/− mice display holoprosencephaly/exencephaly (see Glossary, Box 1) depending on the genetic background (Badouel et al., 2015; Ciani et al., 2003; Saburi et al., 2012), whereas Fat4−/− mice have caudal defects with a broad spinal cord (Saburi et al., 2008). In addition, members of the Fat/Dsch/Fjx pathway has been shown to interact during cranial NT closure as Fat1−/−;Fat4−/− and Fat1−/−;Fjx1−/− double mutants both display exencephaly/anencephaly (see Glossary, Box 1) whereas Fjx1−/− single mutants have no NTDs (Badouel et al., 2015; Saburi et al., 2012). It remains to be determined whether the NTDs of these mutants arise from defective CE.  Cellular mechanisms of CE Although CE appears essential for NTC across vertebrates, the actual cellular mechanisms of CE may vary owing to differences in NP structure between animal groups (Fig. 2). The neural ectoderm in Xenopus laevis, for example, consists of two components: a superficial layer of epithelial cells overlying a deep layer of mesenchyme-like cells (Elul et al., 1997). In zebrafish, NP organization has been variously described as single-layered, bilayered (resembling amphibians) or multilayered, probably depending on the AP level (Araya et al., 2016b; Clarke, 2009), and NP cells have a columnar, epithelial-like phenotype and lack apicobasal polarity, which is established later at the neural rod stage (Girdler et al., 2013; Hong and Brewster, 2006). By contrast, the avian and mammalian NP is a single pseudostratified, columnar epithelium in which cells have obvious apicobasal polarity with nuclei positioned at different apical-basal positions within the epithelium due to interkinetic nuclear migration (IKNM; see Glossary, Box 1) (Spear and Erickson, 2012).  The cellular mechanisms of neural CE in Xenopus involve the ML intercalation of deep neural cells to form a longer and narrower NP and NT. Cell shape change and cell division do not appear to play any role. Cell movement is cell-autonomous and is accomplished by polarized protrusions that exert traction between intercalating cells (Davidson and Keller, 1999; Elul et al., 1997; Ezin et al., 2003, 2006). In parallel, the underlying mesoderm also undergoes autonomous CE, involving the formation of mediolaterally oriented bipolar protrusions (Shih and Keller, 1992). The mesoderm and midline structures dictate the behaviour of the neural cells: in their presence, NP cells exhibit lateral monopolar protrusions directed towards the NP midline (termed the ‘notoplate’ or floor plate at later stages), whereas they display mediolaterally oriented bipolar protrusions when mesoderm or midline structures are absent (Elul et al., 1997; Ezin et al., 2003, 2006). CE in both neural and mesodermal cells is regulated by the Wnt/PCP pathway, and the perturbation of PCP/CE in the NP results in NTDs (Wallingford and Harland, 2001).  In zebrafish, the perturbation of Wnt/PCP signalling (e.g. in Vangl2 mutants) results in a rather broad and thick NE (Ciruna et al., 2006; Tawk et al., 2007) due to faulty cell intercalation (Ciruna et al., 2006). Wnt/PCP signalling seems to be important for the repolarization and integration of daughter cells in the neural keel after the transient loss of polarity during division (Ciruna et al., 2006). Moreover, mirror-image NTs have been observed when Wnt/PCP signalling is abrogated, due to divisions happening at the right time but in a late-converged NE (Tawk et al., 2007). Convergence movements of the mesoderm also play a key role during CE of the zebrafish NE (Araya et al., 2014), due to the coupling role of extracellular matrix (ECM) between the two tissues (Araya et al., 2016a), although Wnt/PCP signalling seems to be important predominantly in the NE (Ciruna et al., 2006).  In mice, axial extension at E7.5-8.5, prior to closure 1, was demonstrated by vital cell labelling and shown to depend on functional Wnt/PCP signalling (Ybot-Gonzalez et al., 2007b). Vangl2Lp/Lp embryos exhibit severely diminished midline extension, resulting in widely spaced neural folds that fail to initiate NTC (Greene et al., 1998). Chimaera analysis shows that the requirement for PCP during CE is cell-autonomous, as Vangl2Lp/Lp cells exhibit reduced midline intercalation even when intermixed with wild-type cells in the same embryo (Ybot-Gonzalez et al., 2007b). Live imaging reveals that neuroepithelial cells organize into tetrads and multicellular rosettes as the AP-oriented junctions contract (Williams et al., 2014). These rosettes then resolve and new ML junctions are formed, leading to neighbour exchange and tissue elongation (apical junctional intercalation). In parallel, cells elongate basally along the ML axis, exhibiting protrusive activity and driving cells to undergo ML intercalation. These intercalation events are adversely affected in PCP mutants and result in defective CE (Williams et al., 2014).  Molecular mechanisms controlling CE Recent studies are beginning to provide insights into how PCP signalling functions at the molecular level during the initial stages of NTC. However, Wnt/PCP signalling interfaces with cytoskeletal remodelling and thus could also participate in the regulation of later cytoskeleton-driven events, for example NP bending.  The core PCP proteins display a highly polarized cellular distribution in Drosophila epithelia and, recently, similar cellular polarization has been described in vertebrate CE, during inner ear development in mammals (May-Simera and Kelley, 2012). In Xenopus, NP cells also display anteriorly polarized Vangl2 localization. This polarization is dependent on the formation of a complex between Vangl2 and Prickle, and Wnt-dependent phosphorylation of Vangl2, which is important for normal NTC (Ossipova et al., 2015). Moreover, Vangl2 polarization depends on Rho kinase-induced phosphorylation of myosin light chain (pMLC), and it has further been shown that Vangl2 depletion abrogates MLC phosphorylation, suggesting a feedback loop between Wnt/PCP signalling and actomyosin dynamics (Ossipova et al., 2014, 2015).  Similarly, in chick neuroepithelial cells, the Wnt/Fz-PCP component Celsr1 displays polarized localization specifically at AP junctions. Celsr1 recruits Dvl, which activates Daam1, which in turn binds and activates PDZ-RhoGEF. This likely leads to RhoA activation and myosin contraction (Fig. 3), resulting in midline convergence as well as NP bending in the ML direction (Nishimura et al., 2012). In support of this sequence was the observation that pMLC is detected only in a subpopulation of adherens junctions in the bending NP of chick embryos (Nishimura and Takeichi, 2008), whereas, in mouse, basal (but not apical) myosin IIB is enriched preferentially along the AP axis (Williams et al., 2014). This polarity is disturbed in mouse PCP mutants, consistent with the lack of ML intercalation (Williams et al., 2014).  Fig. 3. Download figureOpen in new tabDownload powerpoint Fig. 3. Schematic representation of key neural tube closure regulatory mechanisms. A number of mechanisms involved in neural tube closure (NTC) are depicted. (1) Transcriptional regulation: Grhl2 (grainyhead-like 2) regulates the expression of E-cadherin and Cldn4 (claudin 4) in non-neural ectoderm (NNE) cells during mouse cranial neurulation. (2) Protrusions: NNE cells display Rac1-dependent protrusions that make the first contact during neural fold (NF) fusion in the mouse spinal region. (3) Proteases: a pathway involving membrane-bound serine proteases (e.g. protease-activated receptor 2, Par2) is active in NNE cells. (4) Interkinetic nuclear migration (IKNM): nuclei migrate apically to divide, with daughter nuclei returning to a basal position for S phase. As neuroepithelial cell cycles are not synchronized, the neural plate (NP) is a pseudostratified epithelium. (5) Dorsolateral hinge point (DLHP) regulation: the formation of DLHPs is regulated by antagonistic interactions between bone morphogenetic protein 2 (BMP2), sonic hedgehog (Shh) and Noggin. (6) BMP and transforming growth factor (TGF) signalling: active BMP (detected by pSMAD1/5/8) and TGFβ (detected by pSMAD2/3) signalling are found along the neural ectoderm (NE) in a cell-cycle dependent manner. Antagonism between the pathways is important for the formation of the median hinge point (MHP) in chick midbrain, by affecting the localization of apical (e.g. PAR3) or basolateral (e.g. lethal giant larva; LGL) junctional proteins. (7) Planar polarized actomyosin contraction: planar cell polarity (PCP)-controlled apical constriction (actin fibres in red) causes bending along the mediolateral axis in the cranial neural tube of the chick. Basal nuclear localization causes wedge-shaped cells in the midline NP of both chick and mouse embryos. (8) Actomyosin turnover and extracellular matrix (ECM): the assembly and disassembly of apical actin filaments is under ROCK/RhoA regulation. ECM proteins (e.g. fibronectin, perlecan, glypican 4) and their receptors (e.g. integrins) affect NTC.  In Xenopus, diversin, another PCP component that is required for NTC, was found to be polarized along the ML axis of the NP (Ossipova et al., 2014). Rab11, a protein that is involved in endosome recycling and is also important for NTC, was found to be polarized and regulated by diversin, with pMLC acting as a downstream effector (Ossipova et al., 2014).  The available evidence suggests, therefore, that PCP-dependent polarized protein localization in both the AP and ML axes is important for CE, NP bending and ultimately NTC. Hence, vertebrate PCP signalling appears to function similarly to Drosophila planar polarization. The downstream regulator of this polarized expression across species is the phosphorylation of MLC, which is important for both CE and bending of the NP in Xenopus, chick and mouse embryos (Nishimura et al., 2012; Rolo et al., 2009; Williams et al., 2014). It remains to be determined to what extent MLC activation is required for vertebrate neurulation because of its role in CE, as opposed to its involvement in the later events of NP bending and neural fold elevation.  Bending of the NP and elevation of the neural folds Once CE is under way, shaping the future CNS along its AP and ML axes, the margins of the NP begin to elevate, forming neural folds that eventually meet in the dorsal midline and fuse to create the NT (Fig. 1A). Amphibia undergo neural fold bending, elevation and fusion at all axial levels over a relatively short time-frame, whereas birds and mammals display a much more protracted progression of closure along the body axis (Fig. 2). Moreover, the morphology of neural fold elevation differs between cranial and spinal regions (Fig. 2). In the mouse midbrain, the neural folds are initially biconvex with their tips orientated away from the midline. Then dorsolateral bending occurs, generating biconcave neural folds and orienting the tips towards the midline for fusion (Morriss-Kay, 1981). This biphasic sequence has been related to an initial expansion of the underlying cranial mesoderm, which causes the neural folds to adopt the biconvex morphology (Zohn and Sarkar, 2012), and to subsequent actomyosin-dependent dorsolateral bending to generate the biconcave morphology (Morriss-Kay and Tuckett, 1985). In addition, the emigration of cranial neural crest, which begins before closure (unlike in the spine where it follows closure), may enable dorsolateral bending (Copp, 2005). The mammalian spinal region, by contrast, does not exhibit a biconvex elevation phase: the neural folds remain straight except for focal bending sites at the midline (the MHP; median hinge point) and dorsolaterally (DLHPs; paired dorsolateral hinge points). Moreover, as the wave of closure progresses along the spinal region, bending shifts from being predominantly MHP mediated to mainly DLHP mediated (Shum and Copp, 1996).  Cellular mechanisms involved in NP bending Epithelial bending during development is often represented as resulting from a generalized reduction in apical surface area (apical constriction; see Glossary, Box 1). Indeed, in Xenopus embryos, apical constriction of the superficial NP layer leads to invagination at the midline and neural fold bending along the body axis. The anterior NP region additionally exhibits paired dorsolateral bending points, in which apical constriction is particularly marked (Fig. 2C) (Haigo et al., 2003; Lee et al., 2007). The disruption of apical constriction, e.g. by depletion of Shroom3 (Haigo et al., 2003) or of GEF-H1, a RhoA-specific GEF (Itoh et al., 2014), leads to NTC failure. Recently, it was shown that apical constriction in Xenopus is the result of Ca2+-dependent asynchronous and cell-autonomous actin contractions followed by calpain 2-dependent stabilization steps (Christodoulou and Skourides, 2015). In zebrafish, although neural folds do not form per se, structures resembling DLHPs have been described as playing a role in lumen formation within the NT (Fig. 2D) (Hong and Brewster, 2006; Nyholm et al., 2009).  In birds and mammals, the NP is pseudostratified, raising the issue of what constitutes ‘apical constriction’ in such an epithelium. Neuroepithelial cell shape is determined by nuclear position, which varies from apical (during mitosis) to basal (during S-phase of the cell cycle) due to the process of IKNM (Fig. 3). In most parts of the NP, cells are randomly distributed throughout the IKNM cycle, whereas the midline contains a high proportion of S-phase cells with a wedge shape, owing to their basally located nuclei. This generates local bending at the MHP directly overlying the notochord (McShane et al., 2015; Schoenwolf and Smith, 1990). The NP of the lower spine also bends at paired DHLPs, but these show no consistent association with nuclear position or cell cycle phase (McShane et al., 2015; Schoenwolf and Franks, 1984), suggesting an alternative cellular mechanism of bending at DLHPs.  Actomyosin dynamics also appear to play a role in NP bending in amphibia, birds and mammals (Fig. 3), where actin filaments, along with pMLC and Rho GTPases, are found in the apical junctions of neuroepithelial cells (Escuin et al., 2015; Kinoshita et al., 2008; Rolo et al., 2009). Thus, the actomyosin machinery is located at the right place to act as cellular ‘purse strings’, generating the force to pull the neural folds together (Sawyer et al., 2010). Indeed, mice with mutations affecting actin-associated proteins exhibit cranial NTDs, although, with the exception of Shroom3 and MARCKS-related protein mutants, these mutants notably do not develop spinal NTDs (Copp and Greene, 2010). Moreover, inhibition of actin polymerization using cytochalasin D or latrunculin B in cultured mouse embryos does not prevent the formation of MHP and DLHPs, and NTC proceeds in the spinal region (Escuin et al., 2015; Ybot-Gonzalez and Copp, 1999). Recent work has shown that spinal closure requires ROCK-dependent disassembly of actin filaments (Fig. 3). After ROCK inhibition, apical actomyosin accumulates, resulting in a stiff NP that resists closure, despite the presence of MHP and DLHPs. The actin turnover inhibitor, jasplakinolide, and mutation of the actin-severing protein cofilin 1, produce a similar phenotype of NTC failure coupled with actomyosin accumulation (Escuin et al., 2015). Hence, spinal closure in mammals requires regulated turnover of actomyosin apically in the NE.  Molecular regulation of NP bending The pattern of NP bending in higher vertebrates is regulated, like the later stages of neuronal and glial specification, by ventral influence from the notochord (e.g. Shh) and dorsal influence from the NNE (e.g. bone morphogenetic proteins; BMPs) (Fig. 3). MHP formation is notochord dependent (Smith and Schoenwolf, 1989), with Shh playing a role in MHP induction. Other notochordal factors are also required, including the BMP antagonist chordin (Patten and Placzek, 2002). Indeed, in the chick midbrain, BMP signalling (detected as Smad1, Smad5 and Smad8 phosphorylation) is downregulated at the MHP, whereas TGFβ signalling (detected as Smad2 and Smad3 phosphorylation) is strongly active (Fig. 3). Cross-repression between the two pathways regulates MHP formation via effects on the localization of junctional proteins either apically in tight junctions (e.g. PAR complex) or basolaterally (e.g. lethal giant larva; LGL) (Fig. 3) (Amarnath and Agarwala, 2016; Eom et al., 2011; Eom et al., 2012). Interestingly, whereas MHP formation is required for chick midbrain NTC (Amarnath and Agarwala, 2016), it is dispensable for the progression or completion of mouse spinal NTC; notochordless embryos, induced either experimentally or genetically, lack a MHP but are able to close their spinal NT (Davidson et al., 1999). This is because Shh is necessary and sufficient to inhibit the formation of DLHPs in the spinal NT, so that notochordless embryos that lack Shh ventrally display enhanced DLHP formation and are able to complete NTC (Fig. 3) (Ybot-Gonzalez et al., 2002).  The dorsal NNE is also crucial for the formation of DLHPs in both the chick cranial region and mouse caudal region (Hackett et al., 1997; Ybot-Gonzalez et al., 2002). The suggestion that the chick NNE may generate a physical force, leading to neural fold elevation (Alvarez and Schoenwolf, 1992), seems unlikely as only a small fragment of NNE is required on the neural fold to promote NTC (Ybot-Gonzalez et al., 2002). NNE cells secrete BMP2 (Furuta et al., 1997) and this is sufficient to prevent the formation of DLHPs. When Shh expression in the notochord is strong, during upper spinal NTC, noggin expression in the dorsal NP is repressed, so BMP2 action is unopposed and DLHPs are therefore absent. As spinal closure progresses to lower levels, Shh weakens, noggin is de-repressed and BMP2 action is opposed, leading to DLHP formation (Fig. 3) (Ybot-Gonzalez et al., 2007a). In mice, therefore, DLHP formation is a ‘default’ outcome that normally ensures spinal NTC can occur.  In conclusion, NP bending is a dynamic process that differs between axial levels (cranial versus spinal), vertebrate groups (e.g. Xenopus versus mammals) and cellular mechanisms (apical constriction versus IKNM). Real-time evaluation of actin/pMLC organization and morphogenetic processes in a cell cycle-dependent context would ideally reveal the interconnected mechanisms important for NP bending in different vertebrates.  Neural fold adhesion and tissue fusion: the role of cellular protrusions Completion of NTC involves ‘fusion’ of the opposing neural folds to create the NT (Fig. 4). Before fusion, the NE and the NNE on each side comprise the continuous ectodermal layer of the neural fold. During fusion, tissue remodelling disrupts the NE/NNE continuity, and two new epithelia are formed: the inner NT covered by the outer NNE, which subsequently develops into the epidermis (Fig. 1) (Copp et al., 2003). Although epithelial tissue remodelling during fusion is characterized by apoptosis in the boundary ridges between the NE and NNE (Yamaguchi et al., 2011), pharmacological inhibition of programmed cell death does not prevent epithelial remodelling (Massa et al., 2009b). The presence of apoptosis at sites of neural fold remodelling may reflect ‘anoikis’: the triggering of the death pathway in cells deprived of anchorage to other cells or matrix (Massa et al., 2009a).  Fig. 4. Download figureOpen in new tabDownload powerpoint Fig. 4. Morphology of the mouse spinal neural tube during closure. (A) Whole-mount staining of the closing mouse neural tube (NT) using CellMask (green) to label cell membranes, phalloidin (blue) to label F-actin and DAPI (red) to label nuclei. Optical sectioning across different levels (B-E, as indicated by dotted lines) highlights: (B) open neural folds; (C) neural folds bending at dorsolateral hinge points; (D) NT closure point; and (E) the closed NT. Scale bars: 100 µm.  In all vertebrates studied, neural fold fusion involves the formation of cellular protrusions that span the midline gap and represent the first points of attachment of the neural folds (Fig. 3; Fig. 5) (Mak, 1978; Waterman, 1976). These protrusions are dynamic actin-rich structures that, as with in vitro cell culture models, are categorized as spike-like filopodia (see Glossary, Box 1) or sheet-like lamellipodia (‘ruffles’ in three dimensions; see Glossary, Box 1). The cell type – NE or NNE – from which the cellular protrusions originate is a topic of some debate. In mice, the initial contact is made by NNE cells in the midbrain and hindbrain but by NE cells in the forebrain (Geelen and Langman, 1977, 1979), and both ruffles and filopodia have been observed (Geelen and Langman, 1977, 1979; Massarwa and Niswander, 2013; Pyrgaki et al., 2010; Waterman, 1976). In chick, NNE and NE cells in the cranial region make the initial contact simultaneously, whereas NNE cells in the spinal region carry filopodia-like protrusions (Schoenwolf, 1979). In Xenopus, NNE cells make the initial contact (Davidson and Keller, 1999) and ruffles have been observed (Mak, 1978). Hence, cellular protrusions of both filopodial and lamellipodial types participate in neural fold fusion, apparently mediating contact between NE or NNE cells, depending on axial level.  Fig. 5. Download figureOpen in new tabDownload powerpoint Fig. 5. Cellular protrusions in the closing neural tube. Scanning electron micrographs of mouse embryos at early (A, 10 somites) and late (B, 25 somites) stages of spinal neurulation. High magnification of the neural tube (NT) closure points (shown in the insets) reveal the varying morphology of cellular protrusions emanating from the non-neural ectoderm (NNE): filopodia characterize early stage NT fusion (A, inset), while ruffles typify the late stages of spinal closure (B, inset). Scale bars: 100 µm in A and B; 10 µm in the insets.  A requirement for cellular protrusions in mouse spinal NTC has recently been reported. Filopodia were predominately observed in the early stages of neurulation, whereas ruffles or a hybrid filo-lamellipodial protrusion type were observed during the later stages (Fig. 5) (Rolo et al., 2016). Importantly, it was shown that the ablation of Rac1, which is required for cellular protrusion formation in vitro, in NNE cells results in low spina bifida and a concomitant loss of ruffles, with absent protrusions or a switch to filopodia. By contrast, Cdc42 ablation in NNE cells at early or late stages does not produce detectable NTC closure defects. Furthermore, deleting Rac1 or Cdc42 from NE cells does not affect either NTC or protrusion type (Rolo et al., 2016). These findings suggest that NNE cells, not NE cells, produce lamellipodia-like protrusions, under the control of Rac1, that are vital for NTC in late mouse spinal neurulation (Fig. 3; Fig. 5).  It can be seen, therefore, that the process of neural fold adhesion, fusion and remodelling is becoming understood in terms of the cellular events and genetic regulation. We know much less about the molecular mechanisms of cell-cell recognition during fusion. Although ephrinA-EphA interactions have been implicated in this process (Abdul-Aziz et al., 2009; Holmberg et al., 2000), there is a need for further research to reveal the underlying mechanisms.  Cell-matrix interactions during NTC Understanding the role of the ECM in NTC is complicated by the number and variability of ECM proteins and their receptors. The ECM contains proteoglycans, collagens, non-collagenous glycoproteins (laminin, fibronectin) and elastins that are all secreted into the extracellular space in a highly regulated manner, leading to variations in overall ECM composition as development proceeds. In addition to providing mechanical support for tissues, most ECM proteins function as ligands for integrins, which are heterodimeric transmembrane cell surface receptors. The ECM ligands can bind to several integrin receptors, and vice versa, generating considerable functional complexity and initiating signalling cascades that are important for imparting cell polarity, regulating cell adhesion and cytoskeletal dynamics, and generating morphogenetic signals, all of which play a role in NTC (Rozario and DeSimone, 2010).  ECM deposition during NTC Several ECM components, particularly fibronectin, laminins, collagen IV and some proteoglycans, are already present in the cranial and spinal regions of mouse and chick embryos from the earliest stages of neurulation. A primitive basement membrane is deposited between the NP and underlying mesoderm, together with a fibronectin-rich interstitial matrix between mesoderm cells. As the neural folds elevate, an additional area of ECM deposition appears along the interface between the dorsal NE and the overlying NNE (Fig. 3) (Martins-Green, 1988). Hence, the elevating dorsal neural fold is a sandwich of ECM between the basal surfaces of two directly apposed epithelia. A similar pattern is observed in Xenopus, where cells in the deep layer first come into contact with fibronectin, then, as closure proceeds, these contacts are lost and ECM-mediated connections arise between the NNE and dorsal NT (Davidson et al., 2004). In zebrafish, fibronectin and laminin are found between the NP and the mesoderm (Araya et al., 2016a; Trinh and Stainier, 2004).  Fibronectin There is much evidence for a crucial role of fibronectin and its integrin receptor subunits (α5, αv and β1) in early vertebrate development, including during neurulation (Fig. 3). Fibronectin deletion or the blockade of fibronectin signalling in Xenopus embryos results in defective CE due to perturbation of cellular protrusive activity during gastrulation (Davidson et al., 2006). In zebrafish, reduced expression of fibronectin is compatible with continued neurulation, although double knockdown with laminin C1 produces a more severe phenotype than laminin knockdown alone, indicating a possible dual requirement for laminin and fibronectin (Araya et al., 2016a). In mice, even though fibronectin-null mutants exhibit a severe phenotype, they do not have NTC defects but instead display a kinked NT caudally and small, distorted head-folds cranially (George et al., 1993).  Fibronectin is the sole ligand for the α5β1 integrin receptor, and integrin α5 subunit knockout mice show a similar, albeit somewhat milder, phenotype to fibronectin knockouts. Fibronectin deposition appears normal in integrin α5 knockouts (Yang et al., 1993), whereas double α5/αv mutants arrest at gastrulation and fail to assemble any fibronectin (Yang et al., 1999), suggesting functional redundancy among fibronectin-binding integrins. Even earlier lethality, around implantation, is seen in integrin β1 knockouts (Stephens et al., 1995). Hence, fibronectin-integrin interactions are vital for mouse development, but the early lethality of knockouts means that a conditional gene targeting approach will be required to determine functional requirements during NTC.  Laminins Laminins are heterotrimeric glycoproteins consisting of α, β and γ chains that are largely confined to basement membranes. During mouse spinal neurulation, the NNE is the principal producer of laminin chains in contrast to the NE, which produces few, and the mesoderm, which secretes no laminin trimers (Copp et al., 2011). In functional terms, laminins are strongly implicated in gastrulation and neurulation: e.g. antisense suppression of the laminin receptor subunit, integrin α6, in Xenopus embryos leads to arrested development around neurulation with severe axial defects (Lallier et al., 1996). Laminins are also involved in mouse NTC, as laminin α5, γ1 and α3/α6 double mutants all show NTDs, although these mainly affect cranial rather than spinal neurulation (De Arcangelis et al., 1999; Halfter et al., 2002; Miner et al., 1998).  Proteoglycans Proteoglycans comprise a core protein bearing covalently linked glycosaminoglycan (GAG) chains; in embryonic tissues, the GAGs are usually heparan or chondroitin sulphates. Heparan sulfate proteoglycans (HSPGs) include cell-surface molecules that are anchored by a transmembrane domain (e.g. syndecans 1-4), or a glycosylphosphatidylinositol (GPI) linkage (glypicans 1-6), as well as proteoglycans that are secreted into the ECM (e.g. perlecan) (Poulain and Yost, 2015). Such HSPGs modulate signalling through a variety of pathways, in particular via their binding and presentation to cell surface receptors of ligands, including FGFs, Wnts and BMPs (Poulain and Yost, 2015), and several have been implicated in NTC.  Overexpression or knockdown of the Xenopus HSPG syndecan 4 (xSyn4) inhibits CE, resulting in NTDs (Munoz and Larrain, 2006; Munoz et al., 2006). xSyn4 has been found to interact with Fz7 and Dsh in a fibronectin-dependent manner, promoting the translocation of Dsh to the plasma membrane and activating Wnt signalling (Munoz and Larrain, 2006; Munoz et al., 2006). Moreover, xSyn4 promotes NP development through the FGF/ERK and PKC pathways (Kuriyama and Mayor, 2009). By contrast, syndecan 4 knockout in mice does not cause NTDs (Echtermeyer et al., 2001; Ishiguro et al., 2000), although Vangl2Lp and syndecan 4 interact genetically to cause spina bifida. However, overall inhibition of proteoglycan sulfation in Vangl2Lp embryos leads to a more severe NTD phenotype (craniorachischisis) than in syndecan 4/Vangl2Lp double mutants (Escobedo et al., 2013), suggesting that other sulphated proteoglycans could interact with Wnt/PCP signalling to regulate NTC.  The GPI-anchored HSPG glypican 4 (Fig. 3) has also been implicated in NTC: gain or loss of glypican 4 function in Xenopus (Xgly4) results in CE defects leading to NTDs. Mechanistically, disruption or overexpression of Xgly4 inhibits the translocation of Dsh to the membrane, thereby preventing Wnt/PCP signalling. In addition, Xgly4 has been found to interact directly with Fz7 and with ligands such as Wnt5, Wnt11 and FGF2 (Galli et al., 2003; Ohkawara, 2003). Similarly, during zebrafish gastrulation, glypican 4 (knypek) mutants exhibit defects in CE in a Wnt11-dependent manner (Topczewski et al., 2001). In mice, glypican 4 is not expressed in the NE at the site of initiation of NTC, making it unlikely to affect CE (Ybot-Gonzalez et al., 2005); moreover, glypican 4 knockout mice are viable and NTDs have not been reported (Allen et al., 2012).  Another HSPG associated with NTDs is the basement membrane proteoglycan perlecan (Fig. 3). Although perlecan null mutants show exencephaly, these NTDs do not appear to result from faulty NTC but instead have been attributed to a weakened basement membrane around the cranial NT that cannot withstand increasing interventricular pressure, leading to rupture (Costell et al., 1999).  Hence, there is much circumstantial evidence to implicate ECM ligands and their integrin receptors in vertebrate NTC. A challenge for future research will be to determine the specific roles that ECM-integrin signalling plays in the cellular/tissue events of neurulation.  Proteases involved in neural tube closure Several lines of evidence implicate cell surface- associated proteases and protease-activated receptors (PARs) in the regulation of NTC (Fig. 3). PARs are G-protein-coupled receptors (GPCRs) activated by cleavage of their extracellular domain to generate a new N terminus that acts as a tethered ligand for the receptor, triggering intracellular signalling (Adams et al., 2011). Both Par1 and Par2 are expressed during neurulation in mice, and Par2 in particular is expressed in NNE cells and activated by proteases, including matriptase (which is encoded by St14) to activate downstream signals such as Gi/z and Rac1 (Camerer et al., 2010). Individual knockout of Par1 and Par2 (encoded by F2r and F2rl1, respectively) in mice, causes partial embryonic lethality but not NTDs (Connolly et al., 1996; Damiano et al., 1999). However, F2r−/−; F2rl1−/−double mutants develop both exencephaly and spina bifida (Camerer et al., 2010), demonstrating a vital role for PARs in NTC.  Although PARs require proteases for activation, loss-of-function mutants for the membrane-anchored serine proteases matriptase or prostasin (encoded by Prss8) do not exhibit NTDs, but die postnatally due to defects in epidermal barrier formation (List et al., 2002; Peters et al., 2014). Moreover, combined ablation of Par2 and matriptase or prostasin does not prevent NTC, although placental defects result in embryonic lethality at later stages (Szabo et al., 2014). Hence, matriptase and prostasin appear dispensable for Par2 activation during NTC (Szabo et al., 2014). However, excess protease activity has been implicated in NTDs, as indicated by the phenotypes of mice in which the transmembrane serine protease inhibitors HAI-1 (hepatocyte growth factor activator inhibitor; encoded by Spint1) and HAI-2 (encoded by Spint2) are inactivated. Spint2 knockouts are embryonic lethal prior to completion of NTC due to early defects and/or abnormal placental development (Szabo et al., 2009, 2012). The concomitant reduction of matriptase and/or prostasin activity prevents embryonic lethality in these mice, and NTDs (principally exencephaly, but also spina bifida) become evident, with penetrance of the former being dependent on the St14 gene dose (Table 1) (Szabo et al., 2009, 2012).  View inlineView popupDownload powerpoint Table 1. NTDs in mouse models for membrane-anchored proteases, their inhibitors and protease-activated receptors  During NTC, prostasin, matriptase and Par1/2 are co-expressed in NNE cells, raising the issue of whether there is an interaction between the membrane-anchored serine protease and PAR pathways. However, Par2 ablation does not prevent NTDs in matriptase haploinsufficient Spint2−/− mice (Szabo et al., 2012). Further morphological analysis of NTDs in Spint2−/− and F2r−/−; F2rl1−/− double mutants suggests that cranial defects are more severe in Spint2−/− mice, with defects appearing earlier in development, and with absent DLHPs (Szabo et al., 2012). Thus, these two models appear to involve different pathogenic mechanisms, leading to failure of closure at different stages, resulting in differing NTD severities.  Transcriptional regulation of neural tube closure A number of transcription factors have been implicated in the regulation of NTC, based on the observation of NTDs in mouse gene knockouts (Harris and Juriloff, 2010). Here, we review recent data that have highlighted roles for members of the Grhl, Cdx, Pax and Zic gene families.  Grhl2 and Grhl3 Members of the grainyhead-like (Grhl) family of transcription factors are expressed from early stages of neurulation: Grhl2 is uniformly expressed in the NNE at all stages, whereas Grhl3 shows a more dynamic pattern, with expression in the NNE from E8.5, in the NP during spinal closure at E9.5 and in the hindgut at E10 (Auden et al., 2006; Gustavsson et al., 2007). This hindgut expression is implicated in the development of a cell proliferation imbalance between the hindgut and NE that causes NTDs in the Grhl3 hypomorphic mutant, curly tail (ct) (Gustavsson et al., 2007). Both cranial and spinal NTDs are observed in Grhl2-null mice, whereas Grhl3 knockouts display infrequent exencephaly but have fully penetrant spina bifida (Brouns et al., 2011; Rifat et al., 2010; Ting et al., 2003; Werth et al., 2010). Grhl2/3 double knockouts develop a severe phenotype in which NTC arrests completely, after closure 1 is initiated normally (Rifat et al., 2010). However, the axial defects (Axd) spontaneous mouse mutant is characterized by increased expression of Grhl2. In contrast to the null mutant, fully penetrant spinal NTDs and no cranial NTDs are observed in Axd homozygotes (Brouns et al., 2011).  Grhl2 downstream targets (Fig. 3) include components of adherens and tight junctions, and members of their recycling machinery, including E-cadherin, claudin 4, epithelial cell adhesion molecule (EpCAM) and Rab25 (Pyrgaki et al., 2011; Senga et al., 2012; Werth et al., 2010). As these proteins are crucial for the integrity of embryonic epithelia, this raises the possibility that adhesion-associated molecules could mediate the requirement for Grhl2 in NTC. Consistent with this, oligonucleotides that interfere with E-cadherin function cause cranial NTDs in cultured rat embryos (Chen and Hales, 1995). Grhl2 loss also results in upregulation of N-cadherin in mammalian epithelial cells (Werth et al., 2010), suggesting a possible role for overexpression of this cell adhesion molecule in NTDs. In zebrafish, N-cadherin depletion blocks NT formation due to defects in convergence and intercalation (Hong and Brewster, 2006; Lele et al., 2002). However, neither inactivation nor overexpression of N-cadherin expression in mice, Xenopus or chick embryos has led to NTC failure, although a disorganized NT is observed (Bronner-Fraser et al., 1992; Detrick et al., 1990; Radice et al., 1997). In some cell types, Grhl2 may act to repress epithelial-to-mesenchymal transformation (EMT) and its loss of function is associated with some cancers. A parallel function has been suggested in mouse embryos, as Grhl2 deficiency leads to the expression of mesenchymal markers in NNE cells in association with cranial NTDs (Ray and Niswander, 2016).  Although Grhl2 and Grhl3 share consensus binding sites (Boglev et al., 2011; Ting et al., 2005) and interact functionally in NTC (Rifat et al., 2010), their transcriptional target genes are only partially overlapping. Indeed, in mice, Grhl3 regulates the expression of genes involved in epidermal barrier formation (e.g. transglutaminase 1) (Boglev et al., 2011; Ting et al., 2005; Yu et al., 2006), whereas Xenopus Grhl3 can ectopically promote the expression of genes characteristic of the superficial layer of the epidermis (Chalmers et al., 2006). However, it should be noted that, at late foetal and postnatal stages, Grhl3 DNA binding and transcriptional targets are highly dependent on cellular context (Gordon et al., 2014). It remains to be determined which of these Grhl downstream pathways are important for NTC.  Upstream regulation of Grhl factors may involve canonical Wnt/β-catenin signalling during the specification of NNE cells at the neural fold border. Specifically, a reduction in Grhl3 expression was found to partially compensate for anterior axial truncation caused by deficiency of Dkk1, a canonical Wnt signalling antagonist, and it was suggested that Dkk1 promotes NE specification by repressing Grhl3 expression at the NP border (Kimura-Yoshida et al., 2015). This may identify an earlier role for Grhl3, prior to its participation in NTC (Ting et al., 2003). An interaction between Grhl3 and non-canonical Wnt/PCP signalling has also been suggested: the Vangl2Lp mutant allele interacts with both ct and null alleles of Grhl3 to produce spinal NTDs (Caddy et al., 2010; Stiefel et al., 2007), although the developmental basis of this interaction has yet to be determined.  Pax3 and Cdx2 The paired box transcription factor Pax3, which is expressed in the dorsal neural folds during NTC (Goulding et al., 1991), also appears to play a crucial role during NTC; Pax3 mutant and null mouse embryos display both spina bifida and exencephaly (Epstein et al., 1991). Similarly, Cdx2 – a homeodomain transcription factor – is expressed in the tail bud, colocalizes with Pax3 in the caudal NE, and is required for NTC. Knockout mice that bypass the preimplantation requirement for Cdx2 exhibit posterior axial defects, whereas Cdx1/Cdx2 double mutants display craniorachischisis (Savory et al., 2011). Cdx factors are thought to function upstream of Wnt/PCP signalling, as the expression of the PCP-related gene Ptk7 is reduced in Cdx1/Cdx2 double mutants, with evidence for direct transcriptional regulation by Cdx proteins (Savory et al., 2011). However, expression of both Cdx2 and Pax3 is regulated by canonical Wnt/β-catenin signalling (Sanchez-Ferras et al., 2012; Zhao et al., 2014). These results suggest crossregulation between Pax3, Cdx2 and canonical/non-canonical Wnt signalling in the dorsal NE during spinal closure.  Zic genes Several members of the Zic family of zinc-finger proteins have been implicated in NTC. Loss of function of Zic2, Zic3 or Zic5 disrupts NTC in mice, leading to variable defects: Zic2 mutants exhibit spina bifida and exencephaly, whereas Zic3 and Zic5 loss of function both produce exencephaly (Carrel et al., 2000; Elms et al., 2003; Inoue et al., 2004; Nagai et al., 2000). Zic2 is expressed in the entire NE of the spinal NP, whereas it becomes limited to the dorsal NT after NTC is complete, eventually marking roof plate cells (Nagai et al., 1997; Sanchez-Ferras et al., 2014; Ybot-Gonzalez et al., 2007a). A similar dorsal NE expression pattern is seen in frogs and zebrafish (Brewster et al., 1998; Nyholm et al., 2009). The absence of Zic2 leads to a lack of dorsolateral NP bending (i.e. DLHPs) in mice, which is responsible at least in part for the severe spinal NTDs observed in Zic2 mutants (Ybot-Gonzalez et al., 2007a). Similarly, zebrafish lacking Zic2 fail to develop DHLPs, leading to faulty NT lumen formation (Nyholm et al., 2009). In Xenopus, deletion of maternal Zic2 mRNA results in a number of defects, including abnormal development of the NT, via a repression of Nodal signalling (Houston and Wylie, 2005). Zic2 and Nodal were recently shown to interact genetically in mice (Houtmeyers et al., 2016), defining a molecular pathway leading to holoprosencephaly that provides a model for ZIC2-related human birth defects (Brown et al., 1998). Moreover, Zic2 has recently been suggested to play a role in Pax3 regulation: it directly regulates Pax3 expression and acts both as a Cdx co-factor and a Shh mediator, controlling the dorsal restriction of Pax3 expression in mouse caudal NE (Sanchez-Ferras et al., 2014). Hence, Zic2 seems likely to participate with Pax3 and Cdx2 in coordinating the behaviour of dorsal NE cells during NTC.  Biomechanics of neurulation So far, we have considered the cellular and molecular mechanisms underlying vertebrate NTC. However, as a paradigm of tissue morphogenesis, NTC can only be fully understood when its biomechanical mechanisms are also determined. The shaping, bending and fusion of the NP, and the propagation of NTC along the body axis, are all biomechanical events driven by underlying cellular processes. Moreover, biomechanical influences may feedback onto cells, changing gene expression and modulating cell shape, proliferation and survival.  Mechanical influences that oppose closure The mechanical influences that drive NTC [i.e. the cellular ‘motor(s)’ of neurulation, without which morphogenesis cannot occur] need to be distinguished from the mechanical influences that arise from abnormal gene expression and cell behaviour, and lead to NTC failure. An example of the last is seen in ct mutant mice in which imbalanced cell proliferation within the hindgut and NP leads to excessive ventral curvature of the caudal region that mechanically prevents spinal NTC (Brook et al., 1991; Copp et al., 1988). Delay of spinal closure due to changes in tissue curvature can also be demonstrated in chick embryos cultured on curved substrates (van Straaten et al., 1993). Hence, NTC can be modulated by extrinsic mechanical forces acting on the closing NP.  A further demonstration of extrinsic mechanical forces acting during neurulation comes from studies of amphibian embryos, in which small incisions in the NNE extend rapidly and evenly in all directions (Lewis, 1947), suggesting that the NNE withstands isotropic stresses (Jacobson and Gordon, 1976). Dorsal-anterior and ventral-posterior retraction following laser ablations is also observed in the deep layer of Xenopus ectoderm (Morita et al., 2012). In axolotl embryos, epidermal and neuroepithelial stresses have been inferred by quantifying the expansion of microsurgical slits, demonstrating isotropic stresses in the epidermis but anisotropic stresses within the NE (Benko and Brodland, 2007). Building on these findings using in silico models, it has been concluded that excessive tension within the NNE and other tissues surrounding the NP can oppose apposition of the neural folds (Brodland et al., 2010). This is in contrast to the essential role demonstrated for NNE in regulation of NF bending (Jacobson and Moury, 1995; Moury and Schoenwolf, 1995; Ybot-Gonzalez et al., 2002), although this role is likely mediated via a signalling rather than biomechanical function of the NNE (see above).  Mechanical forces that promote closure The demonstration that extrinsic forces can prevent NTC implies that sufficient forces are normally generated to achieve closure. However, the nature of the cellular ‘motor(s)’ required for the initiation, progression and completion of NTC is understood in only a fragmentary way.  The cellular motors described in NT zippering in the ascidian Ciona intestinalis include myosin II-dependent sequential contraction and junctional exchange (see Glossary, Box 1) of cells along the neural/epidermal border directly ahead of the advancing zipper (Hashimoto et al., 2015). In Xenopus, the motors required for bending and folding of the NP include actomyosin-mediated apical constriction of neuroepithelial cells and apical-basal elongation of the same cell layer (Davidson and Keller, 1999; Inoue et al., 2016). Indeed, morpholino-mediated knockdown of the actin remodelling protein Shroom3, which is involved in both apical constriction and cell elongation, prevents folding of the Xenopus NP in vivo, as expected from in silico simulations (Inoue et al., 2016). Simulations also suggest that migration of the deep cell NP layer is required for final closure of the Xenopus NT following neural fold apposition (Inoue et al., 2016). In support of this, impairment of migration using morpholino-mediated knockdown of integrin β1 in Xenopus causes closure defects (Morita et al., 2012).  Wnt/PCP signalling is also essential for NTC at least in part by regulating actomyosin-dependent contractility and coordinated cell movements (Heisenberg and Bellaiche, 2013; Nishimura et al., 2012; Sokol, 2016). Moreover, the cell migration and intercalation involved in PCP-dependent CE is itself a force-generating ‘motor’ (Davidson and Keller, 1999; Nishimura et al., 2012; Zhou et al., 2015). Indeed, cultures of Xenopus explants undergoing CE in ‘force-sensing’ gels, generate ROCK-dependent mechanical stresses governed by gel stiffness (Zhou et al., 2015). This suggests that, in addition to generating mechanical forces, Wnt/PCP signalling is itself a mechanosensitive pathway. Consistent with this, mammalian osteoblasts in culture orient their divisions in response to substrate strain through a PCP/Vangl2-dependent mechanism (Galea et al., 2015). It remains to be determined how far such biomechanical findings from Ciona and Xenopus can be generalized to higher vertebrate NTC.  Molecular feedback of biomechanical forces during NTC How pathways such as Wnt/PCP are themselves regulated by biomechanical stimuli is beginning to emerge. For example, a biomechanical feedback loop that determines the activity of the PCP-interacting Yes-associated protein (YAP), a component of the mammalian Hippo pathway, is involved in regulating cell proliferation, differentiation and organ size (Yu et al., 2015). YAP deletion in future neural crest cells results in cranial NTDs in mice, suggesting a direct role for YAP in NTC (Wang et al., 2016). In addition, medaka YAP (hirame) mutant embryos are abnormally flat due to inability to generate tissue tension (Porazinski et al., 2015). In vitro, culturing cells on stiff substrates leads to YAP nuclear translocation and hence activation (Aragona et al., 2013; Pathak et al., 2014; Sun et al., 2014), whereas culture on soft substrates promotes neuronal differentiation associated with YAP nuclear exclusion (Sun et al., 2014), as observed in chick NT cells (Cao et al., 2008; Hindley et al., 2016). The nuclear translocation of YAP in cells subjected to mechanical tension involves mechanosensation through the actin cytoskeleton and particularly the activity of actin capping or severing proteins such as cofilin (Aragona et al., 2013), which itself has previously been shown to be required for NTC (Escuin et al., 2015; Grego-Bessa et al., 2015). It remains to be determined whether the Hippo/YAP signalling pathway is involved in force generation and regulation during NTC in vertebrates.  In summary, NTC is a biomechanical event driven by intrinsically generated forces required to overcome opposing tissue tensions that can be perturbed by extrinsic forces. Studies in Xenopus and Ciona have identified myosin II-dependent cellular constriction and reorganization events as crucial motors driving neurulation in these species. Whether the same cellular events are sufficient to achieve closure of the pseudo-stratified neuroepithelium of mammalian embryos remains to be determined. However, the involvement of mechanoresponsive PCP and Hippo/YAP signalling cascades in NTC raises the possibility that force generating mechanisms during NTC are adaptable.  Conclusions As highlighted here, considerable progress has been made in determining the developmental mechanisms that govern NTC, and in understanding how the quite dramatic differences in neurulation morphology between vertebrate groups arise despite some striking similarities in underlying cellular and molecular mechanisms. As a result of experimental manipulations, we now have diverse examples of faulty NTC that, in some cases, provide valuable models for probing the development and prevention of human NTDs. Challenges for the future include the application of live imaging methodology to the events of higher vertebrate neurulation, particularly in combination with real-time determination of gene expression changes. Moreover, there is huge scope to characterize and experimentally evaluate the mechanical forces that act upon cells of the closing NT, and understand how these forces are generated and regulated. These and many other issues await the introduction of new, sophisticated techniques to elucidate the remaining mysteries of neurulation and to aid in the prevention and treatment of NTDs, a group of common disabling human birth defects.\n"
     ]
    },
    {
     "name": "stdout",
     "output_type": "stream",
     "text": [
      "NEW ARTICLE: Meet Ebrahim Raisi, the cleric who challenged incumbent Rouhani for president of Iran\n",
      "---------------------------\n",
      "There are 1 links. Here they are:\n",
      "\n",
      "https://www.facebook.com/permalink.php?story_fbid=1889137201326173&id=1453112561595308\n",
      "How many comments?0\n",
      "Were there curse words? ('y' or 'n') n\n",
      "Please input text from article (follow any of the links) >>Iranian presidential candidate Ebrahim Raisi is an important newcomer to electoral politics.  Last year, Supreme Leader Ayatollah Ali Khamenei appointed Raisi custodian of the shrine of Imam Reza and chairman of the foundation that manages its extensive complex. This is no minor post. The foundation nets the regime billions of dollars.   The shrine of Imam Ali Reza in Mashhad, Iran. Iahsan, CC BY-SA Before this year, Raisi had never campaigned for public office or debated in the national political spotlight. His inexperience has shown. In the three live nationally televised debates, he lacked charisma, sticking closely to his talking points.  While highly visible with the ability to influence public opinion and steer some aspects of national and foreign policy, the Iranian president’s power is limited. The majority of power, including that over foreign policy, national security and media, rests with the supreme leader.  Given the little he has to gain from the uncertain venture, why would Raisi decide to join a crowded field to run against the relatively popular incumbent Hassan Rouhani?  Why run? One answer is that with his wealth and connection to the supreme leader, Raisi thinks he has a good chance of winning.  The news of the exit and endorsement of his major right wing rival Mohammad Bagher Ghalibaf on Sunday certainly supports this theory. For the first time since early in the Islamic Republic of Iran’s founding in 1979, the conservative side of the political spectrum has cast its lot behind a single candidate.  Still, observers are keen to point out that history is not on Raisi’s side. Every president since the office was created has served two terms.  View image on Twitter View image on Twitter  Abas Aslani @AbasAslani  Raisi is now among his supporters in a square in the city of Mashhad.#Iran #IranElections2017  5 9:42 AM - May 17, 2017 See Abas Aslani's other Tweets Twitter Ads info and privacy Another explanation has little to do with the presidency. There have long been whispers of illness surrounding the supreme leader, who is 77 years old. To avoid chaos and even loss of power, the regime’s ruling clerics will need to swiftly name Khamenei’s successor when he inevitably dies. Raisi is rumored to be on the short list. Hence, Raisi’s candidacy may be a tactic designed to build the confidence of key regime insiders and boost his name recognition around the country to better position him for that coveted role.  It is noteworthy that Raisi entered the race as an independent, despite the fact that his hard-line views neatly align with the country’s conservative Principlist Party. Running without an affiliation is a wise move for someone looking to be the next leader, as both the Constitution and political norms require the supreme leader to be above pedestrian politics and unencumbered by factional allegiance.  Is Raisi a ‘historical criminal’? As a historian of Iranian politics and media, I’d contend that this election is important not just for its impact in the future of Iran, but for what it says, and does not say, about its post-revolutionary past.  There are a number of unanswered questions about Raisi’s past. One relates to his role on a four-man “death committee” that oversaw the execution of more than 2,000 men and women in 1988. Last summer, the estate of the late Ayatollah Hussein-Ali Montazeri, one of the leaders of the Iranian revolution, released a chilling audio recording of the committee’s deliberations and their response to Montazeri’s plea for leniency for the prisoners.  In the recording, Montazeri can be heard condemning Raisi and the other members of the panel as “historical criminals.”  Montezari died in December 2009. Once designated successor of the first Supreme Leader Ruhollah Khomeini, his funeral was a major inflection point in the politics of the post revolutionary state. It inspired the consolidation of the Green Movement, the most powerful government opposition movement to arise since the toppling of the monarchy in 1979.  The mass executions of 1988 were no doubt a violation of international standards of human rights.  If elected, might Raisi’s past come back to haunt him? Given that another member of the death committee, Mostafa Pourmohammadi, is currently serving as Rouhani’s justice minister, domestic consequences are unlikely.  How it will play out on an international stage is less clear. One thing is sure: Raisi will play a part in the shaping of a post-Khamenei Iran.\n",
      "NEW ARTICLE: identification jellyfish neuropeptides act directly oocyte maturation inducing hormones\n",
      "---------------------------\n",
      "There are 4 links. Here they are:\n",
      "\n",
      "https://www.facebook.com/permalink.php?story_fbid=1718662368214629&id=846794902068051\n",
      "How many comments?2\n",
      "Were there curse words? ('y' or 'n') n\n",
      "https://www.facebook.com/permalink.php?story_fbid=1131037966999971&id=371188272984948\n",
      "How many comments?n\n",
      "Were there curse words? ('y' or 'n') n\n",
      "https://www.facebook.com/permalink.php?story_fbid=1800373776679949&id=309048949145780\n",
      "How many comments?0\n",
      "Were there curse words? ('y' or 'n') n\n",
      "https://www.facebook.com/permalink.php?story_fbid=1608652552586417&id=476568829128134\n",
      "How many comments?0\n",
      "Were there curse words? ('y' or 'n') n\n",
      "Please input text from article (follow any of the links) >>Water depth is associated with significant environmental changes and gradients that, together with biotic, geological, and evolutionary processes, define bathymetric ranges of individuals, populations, species, and even communities. However, inferences on bathymetric ranges of marine invertebrates are usually based on a few taxa or on restricted regional scales. In this study, we present a comprehensive literature survey of hydroids for the Atlantic Ocean and adjacent Arctic and Antarctic seas for records deeper than 50 m. We used these records in bathymetrical analyses along latitude and compared major patterns under an evolutionary framework. Our results show that hydroids are frequent inhabitants of the deep sea with mainly eurybathic species that extend their distributions from shallower to deeper waters, being rarely exclusively bathyal or abyssal. We also found increasing bathymetric ranges with mean depths of occurrence of the species for both families and regions. Moreover, vertical distribution proved to be taxonomically and regionally dependent, with reduced eurybathy in “Antarctic” species but increased eurybathy in “Tropical” and “Subtropical North” regions. Data also support early colonization of the deep sea in the evolution of the group. Finally, the unequal number of records across latitudes, scant at Equatorial and southern Tropical latitudes, provides evidence to the historically uneven sampling effort in the different regions of the Atlantic.\n"
     ]
    }
   ],
   "source": [
    "res = pd.DataFrame()\n",
    "\n",
    "for i in df.index.values:\n",
    "    row = copy.deepcopy(df.loc[i])\n",
    "    total_comments = []\n",
    "    curse_words = []\n",
    "    \n",
    "    print(\"NEW ARTICLE:\", row['title'])\n",
    "    print(\"---------------------------\")\n",
    "    print(\"There are %d links. Here they are:\" %(row['fb_wall_count']))\n",
    "    print()\n",
    "    \n",
    "    for j in df.loc[i]['fb_wall_urls']:\n",
    "        print(j['link'])\n",
    "        \n",
    "        comments = input(\"How many comments?\")\n",
    "        total_comments.append(comments)\n",
    "        \n",
    "        if comments > 0:\n",
    "            curses = input(\"Were there curse words? ('y' or 'n') \")\n",
    "            curse_words.append(curses)\n",
    "        else:\n",
    "            curse_words.append('n')\n",
    "        \n",
    "    row['total_comments'] = total_comments\n",
    "    \n",
    "    text = input(\"Please input text from article (follow any of the links) >>\")\n",
    "    \n",
    "    row['article_text'] = text\n",
    "#     row['lexts.lexicon_count(text, removepunct=True)\n",
    "    res = res.append(row, ignore_index=True)\n",
    "    print()\n",
    "    print()\n",
    "    "
   ]
  },
  {
   "cell_type": "code",
   "execution_count": 17,
   "metadata": {},
   "outputs": [
    {
     "data": {
      "text/html": [
       "<div>\n",
       "<style scoped>\n",
       "    .dataframe tbody tr th:only-of-type {\n",
       "        vertical-align: middle;\n",
       "    }\n",
       "\n",
       "    .dataframe tbody tr th {\n",
       "        vertical-align: top;\n",
       "    }\n",
       "\n",
       "    .dataframe thead th {\n",
       "        text-align: right;\n",
       "    }\n",
       "</style>\n",
       "<table border=\"1\" class=\"dataframe\">\n",
       "  <thead>\n",
       "    <tr style=\"text-align: right;\">\n",
       "      <th></th>\n",
       "      <th>abstract</th>\n",
       "      <th>all_subjects</th>\n",
       "      <th>altmetric_id</th>\n",
       "      <th>article_text</th>\n",
       "      <th>diversity</th>\n",
       "      <th>divint_index</th>\n",
       "      <th>fb_wall_count</th>\n",
       "      <th>fb_wall_urls</th>\n",
       "      <th>intensity</th>\n",
       "      <th>polarity</th>\n",
       "      <th>...</th>\n",
       "      <th>total_comments</th>\n",
       "      <th>total_haha</th>\n",
       "      <th>total_like</th>\n",
       "      <th>total_love</th>\n",
       "      <th>total_reactions</th>\n",
       "      <th>total_reacts</th>\n",
       "      <th>total_sad</th>\n",
       "      <th>total_wow</th>\n",
       "      <th>valence</th>\n",
       "      <th>visibility</th>\n",
       "    </tr>\n",
       "  </thead>\n",
       "  <tbody>\n",
       "    <tr>\n",
       "      <th>0</th>\n",
       "      <td>response calls research phenomenology internet...</td>\n",
       "      <td>['Physical Sciences', 'Information Systems']</td>\n",
       "      <td>28179569.0</td>\n",
       "      <td>In response to calls for further research into...</td>\n",
       "      <td>0.0</td>\n",
       "      <td>0.000000</td>\n",
       "      <td>1.0</td>\n",
       "      <td>[{'link': 'https://www.facebook.com/permalink....</td>\n",
       "      <td>1.000000</td>\n",
       "      <td>0.0</td>\n",
       "      <td>...</td>\n",
       "      <td>[0]</td>\n",
       "      <td>0.000000</td>\n",
       "      <td>0.000000</td>\n",
       "      <td>0.193245</td>\n",
       "      <td>1.0</td>\n",
       "      <td>0.193245</td>\n",
       "      <td>0.000000</td>\n",
       "      <td>0.000000</td>\n",
       "      <td>1.0</td>\n",
       "      <td>318.0</td>\n",
       "    </tr>\n",
       "    <tr>\n",
       "      <th>1</th>\n",
       "      <td>marijuana commonly used recreational substance...</td>\n",
       "      <td>['substancerelateddisorders', 'Health Sciences...</td>\n",
       "      <td>24010269.0</td>\n",
       "      <td>n</td>\n",
       "      <td>0.6</td>\n",
       "      <td>0.464901</td>\n",
       "      <td>4.0</td>\n",
       "      <td>[{'link': 'https://www.facebook.com/permalink....</td>\n",
       "      <td>0.774836</td>\n",
       "      <td>0.0</td>\n",
       "      <td>...</td>\n",
       "      <td>[0, 3, 107, 0]</td>\n",
       "      <td>0.005926</td>\n",
       "      <td>0.008972</td>\n",
       "      <td>0.007453</td>\n",
       "      <td>131.0</td>\n",
       "      <td>0.039847</td>\n",
       "      <td>0.000000</td>\n",
       "      <td>0.017495</td>\n",
       "      <td>1.0</td>\n",
       "      <td>5364.0</td>\n",
       "    </tr>\n",
       "    <tr>\n",
       "      <th>2</th>\n",
       "      <td>neural tube closure studied many decades acros...</td>\n",
       "      <td>['biology', 'embryology', 'Social Sciences', '...</td>\n",
       "      <td>16377675.0</td>\n",
       "      <td>How the neural tube (NT) forms is a central is...</td>\n",
       "      <td>0.2</td>\n",
       "      <td>0.092370</td>\n",
       "      <td>1.0</td>\n",
       "      <td>[{'link': 'https://www.facebook.com/permalink....</td>\n",
       "      <td>0.461852</td>\n",
       "      <td>0.0</td>\n",
       "      <td>...</td>\n",
       "      <td>[2]</td>\n",
       "      <td>0.000000</td>\n",
       "      <td>0.009151</td>\n",
       "      <td>0.007854</td>\n",
       "      <td>1.0</td>\n",
       "      <td>0.017005</td>\n",
       "      <td>0.000000</td>\n",
       "      <td>0.000000</td>\n",
       "      <td>1.0</td>\n",
       "      <td>3726.0</td>\n",
       "    </tr>\n",
       "    <tr>\n",
       "      <th>3</th>\n",
       "      <td>President is not the most important leadership...</td>\n",
       "      <td>[]</td>\n",
       "      <td>20364877.0</td>\n",
       "      <td>Iranian presidential candidate Ebrahim Raisi i...</td>\n",
       "      <td>0.4</td>\n",
       "      <td>0.394446</td>\n",
       "      <td>1.0</td>\n",
       "      <td>[{'link': 'https://www.facebook.com/permalink....</td>\n",
       "      <td>0.986114</td>\n",
       "      <td>NaN</td>\n",
       "      <td>...</td>\n",
       "      <td>[0]</td>\n",
       "      <td>0.000000</td>\n",
       "      <td>0.006337</td>\n",
       "      <td>0.000000</td>\n",
       "      <td>2.0</td>\n",
       "      <td>0.456349</td>\n",
       "      <td>0.318726</td>\n",
       "      <td>0.131285</td>\n",
       "      <td>-1.0</td>\n",
       "      <td>51845.0</td>\n",
       "    </tr>\n",
       "    <tr>\n",
       "      <th>4</th>\n",
       "      <td>oocyte meiotic maturation crucial sexually rep...</td>\n",
       "      <td>['biology', 'embryology', 'Social Sciences', '...</td>\n",
       "      <td>31169832.0</td>\n",
       "      <td>Water depth is associated with significant env...</td>\n",
       "      <td>0.4</td>\n",
       "      <td>0.316133</td>\n",
       "      <td>4.0</td>\n",
       "      <td>[{'link': 'https://www.facebook.com/permalink....</td>\n",
       "      <td>0.790332</td>\n",
       "      <td>0.0</td>\n",
       "      <td>...</td>\n",
       "      <td>[2, n, 0, 0]</td>\n",
       "      <td>0.000000</td>\n",
       "      <td>0.008771</td>\n",
       "      <td>0.016120</td>\n",
       "      <td>7.0</td>\n",
       "      <td>0.041835</td>\n",
       "      <td>0.000000</td>\n",
       "      <td>0.016944</td>\n",
       "      <td>1.0</td>\n",
       "      <td>9335.0</td>\n",
       "    </tr>\n",
       "  </tbody>\n",
       "</table>\n",
       "<p>5 rows × 30 columns</p>\n",
       "</div>"
      ],
      "text/plain": [
       "                                            abstract  \\\n",
       "0  response calls research phenomenology internet...   \n",
       "1  marijuana commonly used recreational substance...   \n",
       "2  neural tube closure studied many decades acros...   \n",
       "3  President is not the most important leadership...   \n",
       "4  oocyte meiotic maturation crucial sexually rep...   \n",
       "\n",
       "                                        all_subjects  altmetric_id  \\\n",
       "0       ['Physical Sciences', 'Information Systems']    28179569.0   \n",
       "1  ['substancerelateddisorders', 'Health Sciences...    24010269.0   \n",
       "2  ['biology', 'embryology', 'Social Sciences', '...    16377675.0   \n",
       "3                                                 []    20364877.0   \n",
       "4  ['biology', 'embryology', 'Social Sciences', '...    31169832.0   \n",
       "\n",
       "                                        article_text  diversity  divint_index  \\\n",
       "0  In response to calls for further research into...        0.0      0.000000   \n",
       "1                                                  n        0.6      0.464901   \n",
       "2  How the neural tube (NT) forms is a central is...        0.2      0.092370   \n",
       "3  Iranian presidential candidate Ebrahim Raisi i...        0.4      0.394446   \n",
       "4  Water depth is associated with significant env...        0.4      0.316133   \n",
       "\n",
       "   fb_wall_count                                       fb_wall_urls  \\\n",
       "0            1.0  [{'link': 'https://www.facebook.com/permalink....   \n",
       "1            4.0  [{'link': 'https://www.facebook.com/permalink....   \n",
       "2            1.0  [{'link': 'https://www.facebook.com/permalink....   \n",
       "3            1.0  [{'link': 'https://www.facebook.com/permalink....   \n",
       "4            4.0  [{'link': 'https://www.facebook.com/permalink....   \n",
       "\n",
       "   intensity  polarity  ...  total_comments total_haha total_like  total_love  \\\n",
       "0   1.000000       0.0  ...             [0]   0.000000   0.000000    0.193245   \n",
       "1   0.774836       0.0  ...  [0, 3, 107, 0]   0.005926   0.008972    0.007453   \n",
       "2   0.461852       0.0  ...             [2]   0.000000   0.009151    0.007854   \n",
       "3   0.986114       NaN  ...             [0]   0.000000   0.006337    0.000000   \n",
       "4   0.790332       0.0  ...    [2, n, 0, 0]   0.000000   0.008771    0.016120   \n",
       "\n",
       "  total_reactions  total_reacts total_sad  total_wow  valence  visibility  \n",
       "0             1.0      0.193245  0.000000   0.000000      1.0       318.0  \n",
       "1           131.0      0.039847  0.000000   0.017495      1.0      5364.0  \n",
       "2             1.0      0.017005  0.000000   0.000000      1.0      3726.0  \n",
       "3             2.0      0.456349  0.318726   0.131285     -1.0     51845.0  \n",
       "4             7.0      0.041835  0.000000   0.016944      1.0      9335.0  \n",
       "\n",
       "[5 rows x 30 columns]"
      ]
     },
     "execution_count": 17,
     "metadata": {},
     "output_type": "execute_result"
    }
   ],
   "source": [
    "res"
   ]
  }
 ],
 "metadata": {
  "kernelspec": {
   "display_name": "Python 3",
   "language": "python",
   "name": "python3"
  }
 },
 "nbformat": 4,
 "nbformat_minor": 2
}
